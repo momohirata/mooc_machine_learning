{
  "nbformat": 4,
  "nbformat_minor": 0,
  "metadata": {
    "colab": {
      "name": "mooc_machine_learning3.ipynb",
      "provenance": [],
      "include_colab_link": true
    },
    "kernelspec": {
      "name": "python3",
      "display_name": "Python 3"
    }
  },
  "cells": [
    {
      "cell_type": "markdown",
      "metadata": {
        "id": "view-in-github",
        "colab_type": "text"
      },
      "source": [
        "<a href=\"https://colab.research.google.com/github/momohirata/mooc_machine_learning/blob/master/mooc_machine_learning3.ipynb\" target=\"_parent\"><img src=\"https://colab.research.google.com/assets/colab-badge.svg\" alt=\"Open In Colab\"/></a>"
      ]
    },
    {
      "cell_type": "markdown",
      "metadata": {
        "id": "nOX1gOqUWvU-",
        "colab_type": "text"
      },
      "source": [
        "![機械学習の分類](https://drive.google.com/uc?export=view&id=1WxdezeiiNYpajS8eUqQR7oZJaPiyOuEt)\n",
        "\n",
        "![代表的な教師ありアルゴリズム](https://drive.google.com/uc?export=view&id=1M2knq3fZiSNK86aUuN2p03tmmitD6PWa)"
      ]
    },
    {
      "cell_type": "code",
      "metadata": {
        "id": "lePz143Hls9Q",
        "colab_type": "code",
        "colab": {}
      },
      "source": [
        ""
      ],
      "execution_count": 0,
      "outputs": []
    },
    {
      "cell_type": "markdown",
      "metadata": {
        "id": "Ts5mrYcJj3Sb",
        "colab_type": "text"
      },
      "source": [
        "![代替テキスト](https://drive.google.com/uc?export=view&id=1CybPYkxY4mBAOrulxdkingit1AGZ27ov)\n",
        "\n",
        "簡単だけど、利用シーンが限られている\n",
        "\n",
        "\n",
        "\n",
        "<img src=\"https://drive.google.com/uc?export=view&id=1T9d9QXskpTup8LBZ0-f0Wq5zC93-4RJq\" width=\"400\">\n",
        "\n",
        "k=1のとき\n",
        "Xに一番近いデータは<得意>データ\n",
        "\n",
        "k=3のとき\n",
        "Xに近い3人で多数決→<苦手>(2人/3人)"
      ]
    },
    {
      "cell_type": "markdown",
      "metadata": {
        "id": "nVPnrlEomDJi",
        "colab_type": "text"
      },
      "source": [
        "### scikit-learnを使ってirisを分類"
      ]
    },
    {
      "cell_type": "code",
      "metadata": {
        "id": "Y3iQVUqKafiM",
        "colab_type": "code",
        "colab": {}
      },
      "source": [
        "# データを取得\n",
        "import sklearn.datasets as datasets\n",
        "iris = datasets.load_iris()"
      ],
      "execution_count": 0,
      "outputs": []
    },
    {
      "cell_type": "code",
      "metadata": {
        "id": "fmZ2VqtBWeBf",
        "colab_type": "code",
        "outputId": "8e298052-4576-4194-fe68-a45367afec16",
        "colab": {
          "base_uri": "https://localhost:8080/",
          "height": 51
        }
      },
      "source": [
        "# 構造の確認\n",
        "print(iris.feature_names)\n",
        "print(iris.target_names)"
      ],
      "execution_count": 53,
      "outputs": [
        {
          "output_type": "stream",
          "text": [
            "['sepal length (cm)', 'sepal width (cm)', 'petal length (cm)', 'petal width (cm)']\n",
            "['setosa' 'versicolor' 'virginica']\n"
          ],
          "name": "stdout"
        }
      ]
    },
    {
      "cell_type": "code",
      "metadata": {
        "id": "UaPtkKBEm5tQ",
        "colab_type": "code",
        "outputId": "28fa825e-4237-4801-cc49-68b1ec0f86a0",
        "colab": {
          "base_uri": "https://localhost:8080/",
          "height": 1000
        }
      },
      "source": [
        "iris.data"
      ],
      "execution_count": 54,
      "outputs": [
        {
          "output_type": "execute_result",
          "data": {
            "text/plain": [
              "array([[5.1, 3.5, 1.4, 0.2],\n",
              "       [4.9, 3. , 1.4, 0.2],\n",
              "       [4.7, 3.2, 1.3, 0.2],\n",
              "       [4.6, 3.1, 1.5, 0.2],\n",
              "       [5. , 3.6, 1.4, 0.2],\n",
              "       [5.4, 3.9, 1.7, 0.4],\n",
              "       [4.6, 3.4, 1.4, 0.3],\n",
              "       [5. , 3.4, 1.5, 0.2],\n",
              "       [4.4, 2.9, 1.4, 0.2],\n",
              "       [4.9, 3.1, 1.5, 0.1],\n",
              "       [5.4, 3.7, 1.5, 0.2],\n",
              "       [4.8, 3.4, 1.6, 0.2],\n",
              "       [4.8, 3. , 1.4, 0.1],\n",
              "       [4.3, 3. , 1.1, 0.1],\n",
              "       [5.8, 4. , 1.2, 0.2],\n",
              "       [5.7, 4.4, 1.5, 0.4],\n",
              "       [5.4, 3.9, 1.3, 0.4],\n",
              "       [5.1, 3.5, 1.4, 0.3],\n",
              "       [5.7, 3.8, 1.7, 0.3],\n",
              "       [5.1, 3.8, 1.5, 0.3],\n",
              "       [5.4, 3.4, 1.7, 0.2],\n",
              "       [5.1, 3.7, 1.5, 0.4],\n",
              "       [4.6, 3.6, 1. , 0.2],\n",
              "       [5.1, 3.3, 1.7, 0.5],\n",
              "       [4.8, 3.4, 1.9, 0.2],\n",
              "       [5. , 3. , 1.6, 0.2],\n",
              "       [5. , 3.4, 1.6, 0.4],\n",
              "       [5.2, 3.5, 1.5, 0.2],\n",
              "       [5.2, 3.4, 1.4, 0.2],\n",
              "       [4.7, 3.2, 1.6, 0.2],\n",
              "       [4.8, 3.1, 1.6, 0.2],\n",
              "       [5.4, 3.4, 1.5, 0.4],\n",
              "       [5.2, 4.1, 1.5, 0.1],\n",
              "       [5.5, 4.2, 1.4, 0.2],\n",
              "       [4.9, 3.1, 1.5, 0.2],\n",
              "       [5. , 3.2, 1.2, 0.2],\n",
              "       [5.5, 3.5, 1.3, 0.2],\n",
              "       [4.9, 3.6, 1.4, 0.1],\n",
              "       [4.4, 3. , 1.3, 0.2],\n",
              "       [5.1, 3.4, 1.5, 0.2],\n",
              "       [5. , 3.5, 1.3, 0.3],\n",
              "       [4.5, 2.3, 1.3, 0.3],\n",
              "       [4.4, 3.2, 1.3, 0.2],\n",
              "       [5. , 3.5, 1.6, 0.6],\n",
              "       [5.1, 3.8, 1.9, 0.4],\n",
              "       [4.8, 3. , 1.4, 0.3],\n",
              "       [5.1, 3.8, 1.6, 0.2],\n",
              "       [4.6, 3.2, 1.4, 0.2],\n",
              "       [5.3, 3.7, 1.5, 0.2],\n",
              "       [5. , 3.3, 1.4, 0.2],\n",
              "       [7. , 3.2, 4.7, 1.4],\n",
              "       [6.4, 3.2, 4.5, 1.5],\n",
              "       [6.9, 3.1, 4.9, 1.5],\n",
              "       [5.5, 2.3, 4. , 1.3],\n",
              "       [6.5, 2.8, 4.6, 1.5],\n",
              "       [5.7, 2.8, 4.5, 1.3],\n",
              "       [6.3, 3.3, 4.7, 1.6],\n",
              "       [4.9, 2.4, 3.3, 1. ],\n",
              "       [6.6, 2.9, 4.6, 1.3],\n",
              "       [5.2, 2.7, 3.9, 1.4],\n",
              "       [5. , 2. , 3.5, 1. ],\n",
              "       [5.9, 3. , 4.2, 1.5],\n",
              "       [6. , 2.2, 4. , 1. ],\n",
              "       [6.1, 2.9, 4.7, 1.4],\n",
              "       [5.6, 2.9, 3.6, 1.3],\n",
              "       [6.7, 3.1, 4.4, 1.4],\n",
              "       [5.6, 3. , 4.5, 1.5],\n",
              "       [5.8, 2.7, 4.1, 1. ],\n",
              "       [6.2, 2.2, 4.5, 1.5],\n",
              "       [5.6, 2.5, 3.9, 1.1],\n",
              "       [5.9, 3.2, 4.8, 1.8],\n",
              "       [6.1, 2.8, 4. , 1.3],\n",
              "       [6.3, 2.5, 4.9, 1.5],\n",
              "       [6.1, 2.8, 4.7, 1.2],\n",
              "       [6.4, 2.9, 4.3, 1.3],\n",
              "       [6.6, 3. , 4.4, 1.4],\n",
              "       [6.8, 2.8, 4.8, 1.4],\n",
              "       [6.7, 3. , 5. , 1.7],\n",
              "       [6. , 2.9, 4.5, 1.5],\n",
              "       [5.7, 2.6, 3.5, 1. ],\n",
              "       [5.5, 2.4, 3.8, 1.1],\n",
              "       [5.5, 2.4, 3.7, 1. ],\n",
              "       [5.8, 2.7, 3.9, 1.2],\n",
              "       [6. , 2.7, 5.1, 1.6],\n",
              "       [5.4, 3. , 4.5, 1.5],\n",
              "       [6. , 3.4, 4.5, 1.6],\n",
              "       [6.7, 3.1, 4.7, 1.5],\n",
              "       [6.3, 2.3, 4.4, 1.3],\n",
              "       [5.6, 3. , 4.1, 1.3],\n",
              "       [5.5, 2.5, 4. , 1.3],\n",
              "       [5.5, 2.6, 4.4, 1.2],\n",
              "       [6.1, 3. , 4.6, 1.4],\n",
              "       [5.8, 2.6, 4. , 1.2],\n",
              "       [5. , 2.3, 3.3, 1. ],\n",
              "       [5.6, 2.7, 4.2, 1.3],\n",
              "       [5.7, 3. , 4.2, 1.2],\n",
              "       [5.7, 2.9, 4.2, 1.3],\n",
              "       [6.2, 2.9, 4.3, 1.3],\n",
              "       [5.1, 2.5, 3. , 1.1],\n",
              "       [5.7, 2.8, 4.1, 1.3],\n",
              "       [6.3, 3.3, 6. , 2.5],\n",
              "       [5.8, 2.7, 5.1, 1.9],\n",
              "       [7.1, 3. , 5.9, 2.1],\n",
              "       [6.3, 2.9, 5.6, 1.8],\n",
              "       [6.5, 3. , 5.8, 2.2],\n",
              "       [7.6, 3. , 6.6, 2.1],\n",
              "       [4.9, 2.5, 4.5, 1.7],\n",
              "       [7.3, 2.9, 6.3, 1.8],\n",
              "       [6.7, 2.5, 5.8, 1.8],\n",
              "       [7.2, 3.6, 6.1, 2.5],\n",
              "       [6.5, 3.2, 5.1, 2. ],\n",
              "       [6.4, 2.7, 5.3, 1.9],\n",
              "       [6.8, 3. , 5.5, 2.1],\n",
              "       [5.7, 2.5, 5. , 2. ],\n",
              "       [5.8, 2.8, 5.1, 2.4],\n",
              "       [6.4, 3.2, 5.3, 2.3],\n",
              "       [6.5, 3. , 5.5, 1.8],\n",
              "       [7.7, 3.8, 6.7, 2.2],\n",
              "       [7.7, 2.6, 6.9, 2.3],\n",
              "       [6. , 2.2, 5. , 1.5],\n",
              "       [6.9, 3.2, 5.7, 2.3],\n",
              "       [5.6, 2.8, 4.9, 2. ],\n",
              "       [7.7, 2.8, 6.7, 2. ],\n",
              "       [6.3, 2.7, 4.9, 1.8],\n",
              "       [6.7, 3.3, 5.7, 2.1],\n",
              "       [7.2, 3.2, 6. , 1.8],\n",
              "       [6.2, 2.8, 4.8, 1.8],\n",
              "       [6.1, 3. , 4.9, 1.8],\n",
              "       [6.4, 2.8, 5.6, 2.1],\n",
              "       [7.2, 3. , 5.8, 1.6],\n",
              "       [7.4, 2.8, 6.1, 1.9],\n",
              "       [7.9, 3.8, 6.4, 2. ],\n",
              "       [6.4, 2.8, 5.6, 2.2],\n",
              "       [6.3, 2.8, 5.1, 1.5],\n",
              "       [6.1, 2.6, 5.6, 1.4],\n",
              "       [7.7, 3. , 6.1, 2.3],\n",
              "       [6.3, 3.4, 5.6, 2.4],\n",
              "       [6.4, 3.1, 5.5, 1.8],\n",
              "       [6. , 3. , 4.8, 1.8],\n",
              "       [6.9, 3.1, 5.4, 2.1],\n",
              "       [6.7, 3.1, 5.6, 2.4],\n",
              "       [6.9, 3.1, 5.1, 2.3],\n",
              "       [5.8, 2.7, 5.1, 1.9],\n",
              "       [6.8, 3.2, 5.9, 2.3],\n",
              "       [6.7, 3.3, 5.7, 2.5],\n",
              "       [6.7, 3. , 5.2, 2.3],\n",
              "       [6.3, 2.5, 5. , 1.9],\n",
              "       [6.5, 3. , 5.2, 2. ],\n",
              "       [6.2, 3.4, 5.4, 2.3],\n",
              "       [5.9, 3. , 5.1, 1.8]])"
            ]
          },
          "metadata": {
            "tags": []
          },
          "execution_count": 54
        }
      ]
    },
    {
      "cell_type": "code",
      "metadata": {
        "id": "-H2v7EcMm9J2",
        "colab_type": "code",
        "outputId": "adcd3c3d-813a-41c2-d538-4b6bdca5ecb3",
        "colab": {
          "base_uri": "https://localhost:8080/",
          "height": 136
        }
      },
      "source": [
        "iris.target"
      ],
      "execution_count": 55,
      "outputs": [
        {
          "output_type": "execute_result",
          "data": {
            "text/plain": [
              "array([0, 0, 0, 0, 0, 0, 0, 0, 0, 0, 0, 0, 0, 0, 0, 0, 0, 0, 0, 0, 0, 0,\n",
              "       0, 0, 0, 0, 0, 0, 0, 0, 0, 0, 0, 0, 0, 0, 0, 0, 0, 0, 0, 0, 0, 0,\n",
              "       0, 0, 0, 0, 0, 0, 1, 1, 1, 1, 1, 1, 1, 1, 1, 1, 1, 1, 1, 1, 1, 1,\n",
              "       1, 1, 1, 1, 1, 1, 1, 1, 1, 1, 1, 1, 1, 1, 1, 1, 1, 1, 1, 1, 1, 1,\n",
              "       1, 1, 1, 1, 1, 1, 1, 1, 1, 1, 1, 1, 2, 2, 2, 2, 2, 2, 2, 2, 2, 2,\n",
              "       2, 2, 2, 2, 2, 2, 2, 2, 2, 2, 2, 2, 2, 2, 2, 2, 2, 2, 2, 2, 2, 2,\n",
              "       2, 2, 2, 2, 2, 2, 2, 2, 2, 2, 2, 2, 2, 2, 2, 2, 2, 2])"
            ]
          },
          "metadata": {
            "tags": []
          },
          "execution_count": 55
        }
      ]
    },
    {
      "cell_type": "markdown",
      "metadata": {
        "id": "Eqxflc_QnLqB",
        "colab_type": "text"
      },
      "source": [
        "### scikit-learnによるK-NNの実装"
      ]
    },
    {
      "cell_type": "code",
      "metadata": {
        "id": "xEsLX-PFnQXv",
        "colab_type": "code",
        "colab": {}
      },
      "source": [
        "# 訓練データとテストデータに分ける\n",
        "from sklearn.model_selection import train_test_split\n",
        "\n",
        "# 30%をテスト、70%を訓練\n",
        "X_train, X_test, y_train, y_test = train_test_split(iris.data, iris.target, test_size=0.3, random_state=0)"
      ],
      "execution_count": 0,
      "outputs": []
    },
    {
      "cell_type": "markdown",
      "metadata": {
        "id": "TaKNOLqUuE65",
        "colab_type": "text"
      },
      "source": [
        "romdom_state = 0にしておけば、何度実行しても同じように分割される\n",
        "\n",
        "X_train, X_test, y_train, y_test\n",
        "\n",
        "訓練の入力データ、テストの入力データ、訓練の正解データ、テストの正解データ\n",
        "\n",
        "※入力データは多次元のことが多いので、大文字で書くのが一般的"
      ]
    },
    {
      "cell_type": "code",
      "metadata": {
        "id": "tuexvAmtqDKA",
        "colab_type": "code",
        "colab": {}
      },
      "source": [
        "# kNNのモデル作成\n",
        "from sklearn.neighbors import KNeighborsClassifier\n",
        "model = KNeighborsClassifier(n_neighbors=1) #Kの値をn_neighborsで指定"
      ],
      "execution_count": 0,
      "outputs": []
    },
    {
      "cell_type": "code",
      "metadata": {
        "id": "ifqOoDLLvPM2",
        "colab_type": "code",
        "colab": {}
      },
      "source": [
        "#学習\n",
        "model.fit(X_train, y_train)\n",
        "\n",
        "#テストデータの予測\n",
        "y_pred = model.predict(X_test)"
      ],
      "execution_count": 0,
      "outputs": []
    },
    {
      "cell_type": "code",
      "metadata": {
        "id": "77NzB62dvx4K",
        "colab_type": "code",
        "outputId": "c5fd85d8-caa6-42a6-8024-0ed797b215a0",
        "colab": {
          "base_uri": "https://localhost:8080/",
          "height": 102
        }
      },
      "source": [
        "# 予測結果\n",
        "print(y_pred)\n",
        "\n",
        "# 正解\n",
        "print(y_test)\n",
        "\n",
        "# 精度の確認\n",
        "import numpy as np\n",
        "print(np.mean(y_pred == y_test)) # 予測とテストデータが一致していたら1、違ったら0"
      ],
      "execution_count": 59,
      "outputs": [
        {
          "output_type": "stream",
          "text": [
            "[2 1 0 2 0 2 0 1 1 1 2 1 1 1 1 0 1 1 0 0 2 1 0 0 2 0 0 1 1 0 2 1 0 2 2 1 0\n",
            " 2 1 1 2 0 2 0 0]\n",
            "[2 1 0 2 0 2 0 1 1 1 2 1 1 1 1 0 1 1 0 0 2 1 0 0 2 0 0 1 1 0 2 1 0 2 2 1 0\n",
            " 1 1 1 2 0 2 0 0]\n",
            "0.9777777777777777\n"
          ],
          "name": "stdout"
        }
      ]
    },
    {
      "cell_type": "markdown",
      "metadata": {
        "id": "tvT43jj7w49x",
        "colab_type": "text"
      },
      "source": [
        "### 線形回帰\n",
        "<img src=\"https://drive.google.com/uc?export=view&id=1QipmJNuGFcMLBSHT35JIlnpJx_n_1Wu_\" width=\"400\">\n",
        "\n",
        "\n",
        "\n",
        "n_features: 次元\n",
        "\n",
        "random_state=1: 毎回同じデータを作成"
      ]
    },
    {
      "cell_type": "code",
      "metadata": {
        "id": "Y7qWe-Rtxbp6",
        "colab_type": "code",
        "outputId": "29d2fae4-98ee-423e-fd30-f117e451aaad",
        "colab": {
          "base_uri": "https://localhost:8080/",
          "height": 267
        }
      },
      "source": [
        "# データの準備\n",
        "%matplotlib inline\n",
        "\n",
        "import sklearn.datasets as datasets\n",
        "import matplotlib.pyplot as plt\n",
        "\n",
        "X, y = datasets.make_regression(n_samples=50, n_features=1, noise=20, random_state=1)\n",
        "\n",
        "plt.plot(X,y,'o') #oでグラフに表示する\n",
        "plt.show()"
      ],
      "execution_count": 60,
      "outputs": [
        {
          "output_type": "display_data",
          "data": {
            "image/png": "[encoded data removed]",
            "text/plain": [
              "<Figure size 432x288 with 1 Axes>"
            ]
          },
          "metadata": {
            "tags": []
          }
        }
      ]
    },
    {
      "cell_type": "code",
      "metadata": {
        "id": "paph1Xj4yJb9",
        "colab_type": "code",
        "colab": {}
      },
      "source": [
        "# 線形回帰\n",
        "from sklearn.model_selection import train_test_split\n",
        "from sklearn.linear_model import LinearRegression\n",
        "\n",
        "X_train, X_test, y_train, y_test = train_test_split(X, y, random_state=2)\n",
        "\n",
        "# 学習\n",
        "model = LinearRegression().fit(X_train, y_train)\n",
        "\n",
        "# 予測\n",
        "y_pred = model.predict(X_test)"
      ],
      "execution_count": 0,
      "outputs": []
    },
    {
      "cell_type": "code",
      "metadata": {
        "id": "vw2klJDU0HBp",
        "colab_type": "code",
        "outputId": "e30b9cce-36c3-4581-8d6d-e194c4d8217c",
        "colab": {
          "base_uri": "https://localhost:8080/",
          "height": 267
        }
      },
      "source": [
        "# グラフを表示\n",
        "lx = np.linspace(-2,2)\n",
        "ly = model.coef_*lx + model.intercept_\n",
        "plt.plot(lx,ly,'r-')\n",
        "plt.plot(X_train,y_train,'o') #学習用データ\n",
        "plt.plot(X_test,y_test,'x') #実際の正解\n",
        "plt.plot(X_test,y_pred,'*') #予測結果\n",
        "plt.show()"
      ],
      "execution_count": 62,
      "outputs": [
        {
          "output_type": "display_data",
          "data": {
            "image/png": "[encoded data removed]",
            "text/plain": [
              "<Figure size 432x288 with 1 Axes>"
            ]
          },
          "metadata": {
            "tags": []
          }
        }
      ]
    },
    {
      "cell_type": "markdown",
      "metadata": {
        "id": "xKfZMLlG3UaE",
        "colab_type": "text"
      },
      "source": [
        "次元が高いほど、過学習は起こりやすくなる\n",
        "\n",
        "訓練データに対する評価はあがるが、未知のデータに対してはよくないモデルになる\n",
        "\n",
        "<img src=\"https://drive.google.com/uc?export=view&id=12biEtBY4-tVUswRaBu-1huukS93dy16V\" width=\"400\">\n",
        "\n",
        "<img src=\"https://drive.google.com/uc?export=view&id=1yxTx_3yWlRTm0zaeA6kvaFkN9wfhkR-h\" width=\"400\">\n",
        "\n",
        "複雑なモデルとは？\n",
        "- パラメータの数が多い\n",
        "- パラメータの範囲が大きい(-1~1よりも-∞ ~ ∞の方が複雑)"
      ]
    },
    {
      "cell_type": "markdown",
      "metadata": {
        "id": "QAFlnfas8ehX",
        "colab_type": "text"
      },
      "source": [
        "### 線形回帰の複雑さを制限する方法\n",
        "### Ridge回帰\n",
        "線形回帰に「学習した重みの二乗の合計」を加えたもの\n",
        "\n",
        "「学習した重みの二乗の合計」←これを最小化する\n",
        "\n",
        "↑パラメータを小さくしようとしてモデルをシンプルにしようとしている」\n",
        "\n",
        "ハイパーパラメーターλを調整して、「誤差」と「パラメーターの二乗の合計の誤差」のどちらを重視するのかを決める\n",
        "\n",
        "Ridge回帰はL2ノルム\n",
        "\n",
        "[ノルムとは](https://qiita.com/taka_horibe/items/9536931fbb26a6c51f6b)"
      ]
    },
    {
      "cell_type": "code",
      "metadata": {
        "id": "H2O6SpqD1Lbl",
        "colab_type": "code",
        "outputId": "9d6e904e-29f4-4a42-952e-bdb1650ff63e",
        "colab": {
          "base_uri": "https://localhost:8080/",
          "height": 51
        }
      },
      "source": [
        "# 200次元の複雑データ作成\n",
        "import sklearn.datasets as datasets\n",
        "from sklearn.model_selection import train_test_split\n",
        "from sklearn.linear_model import LinearRegression\n",
        "\n",
        "X, y = datasets.make_regression(n_samples=100, n_features=200, noise=20, random_state=1)\n",
        "X_train, X_test, y_train, y_test = train_test_split(X, y, random_state=0)\n",
        "\n",
        "model = LinearRegression().fit(X_train, y_train)\n",
        "\n",
        "print(model.score(X_train, y_train))\n",
        "print(model.score(X_test, y_test))"
      ],
      "execution_count": 63,
      "outputs": [
        {
          "output_type": "stream",
          "text": [
            "1.0\n",
            "0.3245665226563227\n"
          ],
          "name": "stdout"
        }
      ]
    },
    {
      "cell_type": "code",
      "metadata": {
        "id": "ftPQFL0hBOTC",
        "colab_type": "code",
        "outputId": "57b00fc2-6ccd-4074-af32-40e33b780601",
        "colab": {
          "base_uri": "https://localhost:8080/",
          "height": 51
        }
      },
      "source": [
        "# Ridge回帰\n",
        "from sklearn.linear_model import Ridge\n",
        "model = Ridge(alpha=1.0).fit(X_train, y_train) #alpha→λ\n",
        "\n",
        "print(model.score(X_train, y_train))\n",
        "print(model.score(X_test, y_test))\n",
        "#超多次元の複雑なモデルで実施すると、未知な値に対しては、普通の線形回帰よりもRidge回帰の方がスコアがちょっとあがる"
      ],
      "execution_count": 64,
      "outputs": [
        {
          "output_type": "stream",
          "text": [
            "0.9999652286205282\n",
            "0.32719547274986016\n"
          ],
          "name": "stdout"
        }
      ]
    },
    {
      "cell_type": "markdown",
      "metadata": {
        "id": "muryI7ybCyon",
        "colab_type": "text"
      },
      "source": [
        "### Lasso回帰\n",
        "Ridge回帰のL1ノルムバージョン\n",
        "\n",
        "Ridge回帰は係数の値を小さくするだけだったが、Lassoは完全に0にする\n",
        "\n",
        "(例)200個変数があったが内50個が0になった\n",
        "\n",
        "→意味がある変数は150個だけだった\n",
        "\n",
        "**訓練データよりもテストデータでの精度が上がることが大切**\n"
      ]
    },
    {
      "cell_type": "code",
      "metadata": {
        "id": "so1u28xe0QZi",
        "colab_type": "code",
        "outputId": "70d73321-492e-4a46-ca09-e6d9dbc21893",
        "colab": {
          "base_uri": "https://localhost:8080/",
          "height": 51
        }
      },
      "source": [
        "# Lasso回帰\n",
        "from sklearn.linear_model import Lasso\n",
        "lr = Lasso(alpha=1.0).fit(X_train, y_train)\n",
        "\n",
        "print(lr.score(X_train, y_train))\n",
        "print(lr.score(X_test, y_test))"
      ],
      "execution_count": 65,
      "outputs": [
        {
          "output_type": "stream",
          "text": [
            "0.9975838736018826\n",
            "0.9516960151101465\n"
          ],
          "name": "stdout"
        }
      ]
    },
    {
      "cell_type": "markdown",
      "metadata": {
        "id": "Fy4yH5ft14p8",
        "colab_type": "text"
      },
      "source": [
        "### まとめ\n",
        "\n",
        "<img src=\"https://drive.google.com/uc?export=view&id=12ULoy1E20wFCIX9l-6m1VscXe-drSD86\" width=\"400\">\n"
      ]
    },
    {
      "cell_type": "markdown",
      "metadata": {
        "id": "TqUeS2uo2Y9w",
        "colab_type": "text"
      },
      "source": [
        "### ハイパーパラメーターの調整\n",
        "k-NNならk、Lassoならλ"
      ]
    },
    {
      "cell_type": "markdown",
      "metadata": {
        "id": "Sb255-OP2qSn",
        "colab_type": "text"
      },
      "source": [
        "1. データを訓練データとテストデータに分ける\n",
        "\n",
        "    たまたまわかれたデータに対して過学習しちゃう恐れがある\n",
        "\n",
        "\n",
        "\n",
        "---\n",
        "\n",
        "\n",
        "2. データを訓練データとテストデータに分ける × 繰り返し (交差検証 Cross Validation)\n",
        "\n",
        "    <img src=\"https://drive.google.com/uc?export=view&id=1Z9NGIgrM9MOXWNFoofuqSyrcUuMytENv\" width=\"400\">\n",
        "    \n",
        "    最終的に各テストデータの予測精度の平均値で評価をする\n",
        "\n",
        "    交差しない場合と比べて、精度を過大評価せずに済む\n",
        "\n",
        "    時間がかかる\n",
        "    \n",
        "    (10交差の場合、交差しない場合と比べて10倍の時間がかかる)\n",
        "\n",
        "---\n",
        "\n",
        "\n",
        "\n",
        "3. データを訓練データと**検証データ**とテストデータに分ける"
      ]
    },
    {
      "cell_type": "code",
      "metadata": {
        "id": "cu97fxMY4THS",
        "colab_type": "code",
        "colab": {
          "base_uri": "https://localhost:8080/",
          "height": 68
        },
        "outputId": "81a525e1-1f16-4361-ebc8-ea55f8824047"
      },
      "source": [
        "# Cross Validation\n",
        "from sklearn.model_selection import cross_val_score\n",
        "scores = cross_val_score(model, X, y, cv=10)\n",
        "print(scores)\n",
        "print(scores.mean())"
      ],
      "execution_count": 66,
      "outputs": [
        {
          "output_type": "stream",
          "text": [
            "[ 0.59191355  0.26476138  0.31323053  0.54258026  0.56099347 -0.50044351\n",
            "  0.6237723   0.21557283  0.47423255  0.65884462]\n",
            "0.374545798062828\n"
          ],
          "name": "stdout"
        }
      ]
    },
    {
      "cell_type": "markdown",
      "metadata": {
        "id": "ZZy7gxLEatuS",
        "colab_type": "text"
      },
      "source": [
        "### 交差検証したときの交差検証したときの予測値"
      ]
    },
    {
      "cell_type": "code",
      "metadata": {
        "id": "2134oknrcCsM",
        "colab_type": "code",
        "colab": {
          "base_uri": "https://localhost:8080/",
          "height": 68
        },
        "outputId": "5d076499-2ce0-4012-b5a2-382b2459038a"
      },
      "source": [
        "import numpy as numpy\n",
        "from sklearn.model_selection import KFold\n",
        "\n",
        "X = np.array([[0,0], [0,0], [0,0], [0,0], [0,0], [0,0], [0,0], [0,0], [0,0]]) #適当\n",
        "y = np.array([0, 0, 0, 1, 1, 1, 2, 2, 2])\n",
        "\n",
        "kfold = KFold(n_splits=3, shuffle=False)\n",
        "\n",
        "for train_index, test_index in kfold.split(X, y):\n",
        "    print(train_index, test_index)"
      ],
      "execution_count": 80,
      "outputs": [
        {
          "output_type": "stream",
          "text": [
            "[3 4 5 6 7 8] [0 1 2]\n",
            "[0 1 2 6 7 8] [3 4 5]\n",
            "[0 1 2 3 4 5] [6 7 8]\n"
          ],
          "name": "stdout"
        }
      ]
    },
    {
      "cell_type": "markdown",
      "metadata": {
        "id": "l9Lkj9u9kwhA",
        "colab_type": "text"
      },
      "source": [
        "```\n",
        "[3 4 5 6 7 8] [0 1 2] #出力値のラベルは0,0,0\n",
        "[0 1 2 6 7 8] [3 4 5] #出力値のラベルは1,1,1\n",
        "[0 1 2 3 4 5] [6 7 8] #出力値のラベルは2,2,2\n",
        "```\n",
        "\n",
        "kFoldだと、分割後のデータの正解が揃ってしまってモデルを作れなくなっちゃう可能性もある。\n",
        "\n",
        "↓なので、stratified kFoldを使いましょう\n",
        "\n",
        "※各ラベルに属するデータが同じ割合になるようにいい感じにわけてくれる"
      ]
    },
    {
      "cell_type": "code",
      "metadata": {
        "id": "v46urB9tkwqz",
        "colab_type": "code",
        "colab": {
          "base_uri": "https://localhost:8080/",
          "height": 68
        },
        "outputId": "ec087468-88ab-4ef8-b8af-90890033477a"
      },
      "source": [
        "import numpy as numpy\n",
        "from sklearn.model_selection import StratifiedKFold\n",
        "\n",
        "X = np.array([[0,0], [0,0], [0,0], [0,0], [0,0], [0,0], [0,0], [0,0], [0,0]]) #適当\n",
        "y = np.array([0, 0, 0, 1, 1, 1, 2, 2, 2])\n",
        "\n",
        "kfold = StratifiedKFold(n_splits=3, shuffle=False)\n",
        "\n",
        "for train_index, test_index in kfold.split(X, y):\n",
        "    print(train_index, test_index)"
      ],
      "execution_count": 84,
      "outputs": [
        {
          "output_type": "stream",
          "text": [
            "[1 2 4 5 7 8] [0 3 6]\n",
            "[0 2 3 5 6 8] [1 4 7]\n",
            "[0 1 3 4 6 7] [2 5 8]\n"
          ],
          "name": "stdout"
        }
      ]
    },
    {
      "cell_type": "code",
      "metadata": {
        "id": "LoTOzZiMasah",
        "colab_type": "code",
        "colab": {
          "base_uri": "https://localhost:8080/",
          "height": 34
        },
        "outputId": "95f2f3f6-acab-4a8a-9257-bd4ddef41860"
      },
      "source": [
        "from sklearn.model_selection import cross_val_predict\n",
        "\n",
        "y_pred = cross_val_predict(model, X, y, cv=StratifiedKFold(n_splits=3, shuffle=True))\n",
        "y_pred"
      ],
      "execution_count": 85,
      "outputs": [
        {
          "output_type": "execute_result",
          "data": {
            "text/plain": [
              "array([1., 1., 1., 1., 1., 1., 1., 1., 1.])"
            ]
          },
          "metadata": {
            "tags": []
          },
          "execution_count": 85
        }
      ]
    }
  ]
}