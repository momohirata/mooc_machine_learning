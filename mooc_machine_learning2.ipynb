{
  "nbformat": 4,
  "nbformat_minor": 0,
  "metadata": {
    "colab": {
      "name": "mooc_machine_learning2.ipynb",
      "provenance": [],
      "include_colab_link": true
    },
    "kernelspec": {
      "name": "python3",
      "display_name": "Python 3"
    }
  },
  "cells": [
    {
      "cell_type": "markdown",
      "metadata": {
        "id": "view-in-github",
        "colab_type": "text"
      },
      "source": [
        "<a href=\"https://colab.research.google.com/github/momohirata/mooc_machine_learning/blob/master/mooc_machine_learning2.ipynb\" target=\"_parent\"><img src=\"https://colab.research.google.com/assets/colab-badge.svg\" alt=\"Open In Colab\"/></a>"
      ]
    },
    {
      "cell_type": "markdown",
      "metadata": {
        "id": "MQz7ug2bFkaC",
        "colab_type": "text"
      },
      "source": [
        "# 第2回 Python言語によるデータ分析の基礎"
      ]
    },
    {
      "cell_type": "markdown",
      "metadata": {
        "id": "TVJ_KYBiEHtP",
        "colab_type": "text"
      },
      "source": [
        "### **pandasを使った統計値の分析**"
      ]
    },
    {
      "cell_type": "code",
      "metadata": {
        "id": "VrTQ_gszjKQ0",
        "colab_type": "code",
        "outputId": "9a4f79d7-3541-4c2b-ce61-b08011fd4074",
        "colab": {
          "base_uri": "https://localhost:8080/",
          "height": 419
        }
      },
      "source": [
        "import pandas as pd\n",
        "from sklearn import datasets\n",
        "iris = datasets.load_iris()\n",
        "df_iris = pd.DataFrame(iris.data, columns=iris.feature_names)\n",
        "df_iris['target'] = pd.Series(iris.target)\n",
        "df_iris"
      ],
      "execution_count": 1,
      "outputs": [
        {
          "output_type": "execute_result",
          "data": {
            "text/html": [
              "<div>\n",
              "<style scoped>\n",
              "    .dataframe tbody tr th:only-of-type {\n",
              "        vertical-align: middle;\n",
              "    }\n",
              "\n",
              "    .dataframe tbody tr th {\n",
              "        vertical-align: top;\n",
              "    }\n",
              "\n",
              "    .dataframe thead th {\n",
              "        text-align: right;\n",
              "    }\n",
              "</style>\n",
              "<table border=\"1\" class=\"dataframe\">\n",
              "  <thead>\n",
              "    <tr style=\"text-align: right;\">\n",
              "      <th></th>\n",
              "      <th>sepal length (cm)</th>\n",
              "      <th>sepal width (cm)</th>\n",
              "      <th>petal length (cm)</th>\n",
              "      <th>petal width (cm)</th>\n",
              "      <th>target</th>\n",
              "    </tr>\n",
              "  </thead>\n",
              "  <tbody>\n",
              "    <tr>\n",
              "      <th>0</th>\n",
              "      <td>5.1</td>\n",
              "      <td>3.5</td>\n",
              "      <td>1.4</td>\n",
              "      <td>0.2</td>\n",
              "      <td>0</td>\n",
              "    </tr>\n",
              "    <tr>\n",
              "      <th>1</th>\n",
              "      <td>4.9</td>\n",
              "      <td>3.0</td>\n",
              "      <td>1.4</td>\n",
              "      <td>0.2</td>\n",
              "      <td>0</td>\n",
              "    </tr>\n",
              "    <tr>\n",
              "      <th>2</th>\n",
              "      <td>4.7</td>\n",
              "      <td>3.2</td>\n",
              "      <td>1.3</td>\n",
              "      <td>0.2</td>\n",
              "      <td>0</td>\n",
              "    </tr>\n",
              "    <tr>\n",
              "      <th>3</th>\n",
              "      <td>4.6</td>\n",
              "      <td>3.1</td>\n",
              "      <td>1.5</td>\n",
              "      <td>0.2</td>\n",
              "      <td>0</td>\n",
              "    </tr>\n",
              "    <tr>\n",
              "      <th>4</th>\n",
              "      <td>5.0</td>\n",
              "      <td>3.6</td>\n",
              "      <td>1.4</td>\n",
              "      <td>0.2</td>\n",
              "      <td>0</td>\n",
              "    </tr>\n",
              "    <tr>\n",
              "      <th>...</th>\n",
              "      <td>...</td>\n",
              "      <td>...</td>\n",
              "      <td>...</td>\n",
              "      <td>...</td>\n",
              "      <td>...</td>\n",
              "    </tr>\n",
              "    <tr>\n",
              "      <th>145</th>\n",
              "      <td>6.7</td>\n",
              "      <td>3.0</td>\n",
              "      <td>5.2</td>\n",
              "      <td>2.3</td>\n",
              "      <td>2</td>\n",
              "    </tr>\n",
              "    <tr>\n",
              "      <th>146</th>\n",
              "      <td>6.3</td>\n",
              "      <td>2.5</td>\n",
              "      <td>5.0</td>\n",
              "      <td>1.9</td>\n",
              "      <td>2</td>\n",
              "    </tr>\n",
              "    <tr>\n",
              "      <th>147</th>\n",
              "      <td>6.5</td>\n",
              "      <td>3.0</td>\n",
              "      <td>5.2</td>\n",
              "      <td>2.0</td>\n",
              "      <td>2</td>\n",
              "    </tr>\n",
              "    <tr>\n",
              "      <th>148</th>\n",
              "      <td>6.2</td>\n",
              "      <td>3.4</td>\n",
              "      <td>5.4</td>\n",
              "      <td>2.3</td>\n",
              "      <td>2</td>\n",
              "    </tr>\n",
              "    <tr>\n",
              "      <th>149</th>\n",
              "      <td>5.9</td>\n",
              "      <td>3.0</td>\n",
              "      <td>5.1</td>\n",
              "      <td>1.8</td>\n",
              "      <td>2</td>\n",
              "    </tr>\n",
              "  </tbody>\n",
              "</table>\n",
              "<p>150 rows × 5 columns</p>\n",
              "</div>"
            ],
            "text/plain": [
              "     sepal length (cm)  sepal width (cm)  ...  petal width (cm)  target\n",
              "0                  5.1               3.5  ...               0.2       0\n",
              "1                  4.9               3.0  ...               0.2       0\n",
              "2                  4.7               3.2  ...               0.2       0\n",
              "3                  4.6               3.1  ...               0.2       0\n",
              "4                  5.0               3.6  ...               0.2       0\n",
              "..                 ...               ...  ...               ...     ...\n",
              "145                6.7               3.0  ...               2.3       2\n",
              "146                6.3               2.5  ...               1.9       2\n",
              "147                6.5               3.0  ...               2.0       2\n",
              "148                6.2               3.4  ...               2.3       2\n",
              "149                5.9               3.0  ...               1.8       2\n",
              "\n",
              "[150 rows x 5 columns]"
            ]
          },
          "metadata": {
            "tags": []
          },
          "execution_count": 1
        }
      ]
    },
    {
      "cell_type": "code",
      "metadata": {
        "id": "fabOiB1pjdek",
        "colab_type": "code",
        "outputId": "dcf47fc1-c9b2-4628-e6a5-f3e4cd370e9f",
        "colab": {
          "base_uri": "https://localhost:8080/",
          "height": 297
        }
      },
      "source": [
        "df_iris.describe()"
      ],
      "execution_count": 2,
      "outputs": [
        {
          "output_type": "execute_result",
          "data": {
            "text/html": [
              "<div>\n",
              "<style scoped>\n",
              "    .dataframe tbody tr th:only-of-type {\n",
              "        vertical-align: middle;\n",
              "    }\n",
              "\n",
              "    .dataframe tbody tr th {\n",
              "        vertical-align: top;\n",
              "    }\n",
              "\n",
              "    .dataframe thead th {\n",
              "        text-align: right;\n",
              "    }\n",
              "</style>\n",
              "<table border=\"1\" class=\"dataframe\">\n",
              "  <thead>\n",
              "    <tr style=\"text-align: right;\">\n",
              "      <th></th>\n",
              "      <th>sepal length (cm)</th>\n",
              "      <th>sepal width (cm)</th>\n",
              "      <th>petal length (cm)</th>\n",
              "      <th>petal width (cm)</th>\n",
              "      <th>target</th>\n",
              "    </tr>\n",
              "  </thead>\n",
              "  <tbody>\n",
              "    <tr>\n",
              "      <th>count</th>\n",
              "      <td>150.000000</td>\n",
              "      <td>150.000000</td>\n",
              "      <td>150.000000</td>\n",
              "      <td>150.000000</td>\n",
              "      <td>150.000000</td>\n",
              "    </tr>\n",
              "    <tr>\n",
              "      <th>mean</th>\n",
              "      <td>5.843333</td>\n",
              "      <td>3.057333</td>\n",
              "      <td>3.758000</td>\n",
              "      <td>1.199333</td>\n",
              "      <td>1.000000</td>\n",
              "    </tr>\n",
              "    <tr>\n",
              "      <th>std</th>\n",
              "      <td>0.828066</td>\n",
              "      <td>0.435866</td>\n",
              "      <td>1.765298</td>\n",
              "      <td>0.762238</td>\n",
              "      <td>0.819232</td>\n",
              "    </tr>\n",
              "    <tr>\n",
              "      <th>min</th>\n",
              "      <td>4.300000</td>\n",
              "      <td>2.000000</td>\n",
              "      <td>1.000000</td>\n",
              "      <td>0.100000</td>\n",
              "      <td>0.000000</td>\n",
              "    </tr>\n",
              "    <tr>\n",
              "      <th>25%</th>\n",
              "      <td>5.100000</td>\n",
              "      <td>2.800000</td>\n",
              "      <td>1.600000</td>\n",
              "      <td>0.300000</td>\n",
              "      <td>0.000000</td>\n",
              "    </tr>\n",
              "    <tr>\n",
              "      <th>50%</th>\n",
              "      <td>5.800000</td>\n",
              "      <td>3.000000</td>\n",
              "      <td>4.350000</td>\n",
              "      <td>1.300000</td>\n",
              "      <td>1.000000</td>\n",
              "    </tr>\n",
              "    <tr>\n",
              "      <th>75%</th>\n",
              "      <td>6.400000</td>\n",
              "      <td>3.300000</td>\n",
              "      <td>5.100000</td>\n",
              "      <td>1.800000</td>\n",
              "      <td>2.000000</td>\n",
              "    </tr>\n",
              "    <tr>\n",
              "      <th>max</th>\n",
              "      <td>7.900000</td>\n",
              "      <td>4.400000</td>\n",
              "      <td>6.900000</td>\n",
              "      <td>2.500000</td>\n",
              "      <td>2.000000</td>\n",
              "    </tr>\n",
              "  </tbody>\n",
              "</table>\n",
              "</div>"
            ],
            "text/plain": [
              "       sepal length (cm)  sepal width (cm)  ...  petal width (cm)      target\n",
              "count         150.000000        150.000000  ...        150.000000  150.000000\n",
              "mean            5.843333          3.057333  ...          1.199333    1.000000\n",
              "std             0.828066          0.435866  ...          0.762238    0.819232\n",
              "min             4.300000          2.000000  ...          0.100000    0.000000\n",
              "25%             5.100000          2.800000  ...          0.300000    0.000000\n",
              "50%             5.800000          3.000000  ...          1.300000    1.000000\n",
              "75%             6.400000          3.300000  ...          1.800000    2.000000\n",
              "max             7.900000          4.400000  ...          2.500000    2.000000\n",
              "\n",
              "[8 rows x 5 columns]"
            ]
          },
          "metadata": {
            "tags": []
          },
          "execution_count": 2
        }
      ]
    },
    {
      "cell_type": "code",
      "metadata": {
        "id": "68NIgll4jrhd",
        "colab_type": "code",
        "outputId": "70b04978-5e6a-4305-d285-a9944cf56ac7",
        "colab": {
          "base_uri": "https://localhost:8080/",
          "height": 297
        }
      },
      "source": [
        "# target=0でfilter\n",
        "df_setosa = df_iris[df_iris.target == 0]\n",
        "\n",
        "# filterした結果の統計値を確認\n",
        "df_setosa.describe()"
      ],
      "execution_count": 3,
      "outputs": [
        {
          "output_type": "execute_result",
          "data": {
            "text/html": [
              "<div>\n",
              "<style scoped>\n",
              "    .dataframe tbody tr th:only-of-type {\n",
              "        vertical-align: middle;\n",
              "    }\n",
              "\n",
              "    .dataframe tbody tr th {\n",
              "        vertical-align: top;\n",
              "    }\n",
              "\n",
              "    .dataframe thead th {\n",
              "        text-align: right;\n",
              "    }\n",
              "</style>\n",
              "<table border=\"1\" class=\"dataframe\">\n",
              "  <thead>\n",
              "    <tr style=\"text-align: right;\">\n",
              "      <th></th>\n",
              "      <th>sepal length (cm)</th>\n",
              "      <th>sepal width (cm)</th>\n",
              "      <th>petal length (cm)</th>\n",
              "      <th>petal width (cm)</th>\n",
              "      <th>target</th>\n",
              "    </tr>\n",
              "  </thead>\n",
              "  <tbody>\n",
              "    <tr>\n",
              "      <th>count</th>\n",
              "      <td>50.00000</td>\n",
              "      <td>50.000000</td>\n",
              "      <td>50.000000</td>\n",
              "      <td>50.000000</td>\n",
              "      <td>50.0</td>\n",
              "    </tr>\n",
              "    <tr>\n",
              "      <th>mean</th>\n",
              "      <td>5.00600</td>\n",
              "      <td>3.428000</td>\n",
              "      <td>1.462000</td>\n",
              "      <td>0.246000</td>\n",
              "      <td>0.0</td>\n",
              "    </tr>\n",
              "    <tr>\n",
              "      <th>std</th>\n",
              "      <td>0.35249</td>\n",
              "      <td>0.379064</td>\n",
              "      <td>0.173664</td>\n",
              "      <td>0.105386</td>\n",
              "      <td>0.0</td>\n",
              "    </tr>\n",
              "    <tr>\n",
              "      <th>min</th>\n",
              "      <td>4.30000</td>\n",
              "      <td>2.300000</td>\n",
              "      <td>1.000000</td>\n",
              "      <td>0.100000</td>\n",
              "      <td>0.0</td>\n",
              "    </tr>\n",
              "    <tr>\n",
              "      <th>25%</th>\n",
              "      <td>4.80000</td>\n",
              "      <td>3.200000</td>\n",
              "      <td>1.400000</td>\n",
              "      <td>0.200000</td>\n",
              "      <td>0.0</td>\n",
              "    </tr>\n",
              "    <tr>\n",
              "      <th>50%</th>\n",
              "      <td>5.00000</td>\n",
              "      <td>3.400000</td>\n",
              "      <td>1.500000</td>\n",
              "      <td>0.200000</td>\n",
              "      <td>0.0</td>\n",
              "    </tr>\n",
              "    <tr>\n",
              "      <th>75%</th>\n",
              "      <td>5.20000</td>\n",
              "      <td>3.675000</td>\n",
              "      <td>1.575000</td>\n",
              "      <td>0.300000</td>\n",
              "      <td>0.0</td>\n",
              "    </tr>\n",
              "    <tr>\n",
              "      <th>max</th>\n",
              "      <td>5.80000</td>\n",
              "      <td>4.400000</td>\n",
              "      <td>1.900000</td>\n",
              "      <td>0.600000</td>\n",
              "      <td>0.0</td>\n",
              "    </tr>\n",
              "  </tbody>\n",
              "</table>\n",
              "</div>"
            ],
            "text/plain": [
              "       sepal length (cm)  sepal width (cm)  ...  petal width (cm)  target\n",
              "count           50.00000         50.000000  ...         50.000000    50.0\n",
              "mean             5.00600          3.428000  ...          0.246000     0.0\n",
              "std              0.35249          0.379064  ...          0.105386     0.0\n",
              "min              4.30000          2.300000  ...          0.100000     0.0\n",
              "25%              4.80000          3.200000  ...          0.200000     0.0\n",
              "50%              5.00000          3.400000  ...          0.200000     0.0\n",
              "75%              5.20000          3.675000  ...          0.300000     0.0\n",
              "max              5.80000          4.400000  ...          0.600000     0.0\n",
              "\n",
              "[8 rows x 5 columns]"
            ]
          },
          "metadata": {
            "tags": []
          },
          "execution_count": 3
        }
      ]
    },
    {
      "cell_type": "markdown",
      "metadata": {
        "id": "3pMeemDx1Ei5",
        "colab_type": "text"
      },
      "source": [
        ""
      ]
    },
    {
      "cell_type": "markdown",
      "metadata": {
        "id": "XAfOm5AH1JD_",
        "colab_type": "text"
      },
      "source": [
        ""
      ]
    },
    {
      "cell_type": "markdown",
      "metadata": {
        "id": "gwch2Fo01KOu",
        "colab_type": "text"
      },
      "source": [
        "### **pandasを使ったCSVの読み込み**"
      ]
    },
    {
      "cell_type": "markdown",
      "metadata": {
        "id": "5hYhFeHw6Dtq",
        "colab_type": "text"
      },
      "source": [
        "Google Drive上のcsvファイルにpandasでアクセスする方法\n",
        "https://qiita.com/illumination-k/items/d6c086554ca38369a61f"
      ]
    },
    {
      "cell_type": "code",
      "metadata": {
        "id": "UPCXMzaDGtTd",
        "colab_type": "code",
        "outputId": "eaffd37e-bf35-4d96-ca38-3e48d5e88864",
        "colab": {
          "base_uri": "https://localhost:8080/",
          "height": 204
        }
      },
      "source": [
        "url = 'https://drive.google.com/uc?id=1jX6pzJSL3J-2HSBNxMRYhgvhPtENv6e0'\n",
        "\n",
        "df = pd.read_csv(url)\n",
        "\n",
        "#csv dataを表示する\n",
        "df[:5]"
      ],
      "execution_count": 4,
      "outputs": [
        {
          "output_type": "execute_result",
          "data": {
            "text/html": [
              "<div>\n",
              "<style scoped>\n",
              "    .dataframe tbody tr th:only-of-type {\n",
              "        vertical-align: middle;\n",
              "    }\n",
              "\n",
              "    .dataframe tbody tr th {\n",
              "        vertical-align: top;\n",
              "    }\n",
              "\n",
              "    .dataframe thead th {\n",
              "        text-align: right;\n",
              "    }\n",
              "</style>\n",
              "<table border=\"1\" class=\"dataframe\">\n",
              "  <thead>\n",
              "    <tr style=\"text-align: right;\">\n",
              "      <th></th>\n",
              "      <th>Prefecture</th>\n",
              "      <th>Year</th>\n",
              "      <th>Total</th>\n",
              "      <th>Man</th>\n",
              "      <th>Woman</th>\n",
              "    </tr>\n",
              "  </thead>\n",
              "  <tbody>\n",
              "    <tr>\n",
              "      <th>0</th>\n",
              "      <td>全国</td>\n",
              "      <td>1920</td>\n",
              "      <td>55963053</td>\n",
              "      <td>28044185</td>\n",
              "      <td>27918868</td>\n",
              "    </tr>\n",
              "    <tr>\n",
              "      <th>1</th>\n",
              "      <td>北海道</td>\n",
              "      <td>1920</td>\n",
              "      <td>2359183</td>\n",
              "      <td>1244322</td>\n",
              "      <td>1114861</td>\n",
              "    </tr>\n",
              "    <tr>\n",
              "      <th>2</th>\n",
              "      <td>青森県</td>\n",
              "      <td>1920</td>\n",
              "      <td>756454</td>\n",
              "      <td>381293</td>\n",
              "      <td>375161</td>\n",
              "    </tr>\n",
              "    <tr>\n",
              "      <th>3</th>\n",
              "      <td>岩手県</td>\n",
              "      <td>1920</td>\n",
              "      <td>845540</td>\n",
              "      <td>421069</td>\n",
              "      <td>424471</td>\n",
              "    </tr>\n",
              "    <tr>\n",
              "      <th>4</th>\n",
              "      <td>宮城県</td>\n",
              "      <td>1920</td>\n",
              "      <td>961768</td>\n",
              "      <td>485309</td>\n",
              "      <td>476459</td>\n",
              "    </tr>\n",
              "  </tbody>\n",
              "</table>\n",
              "</div>"
            ],
            "text/plain": [
              "  Prefecture  Year     Total       Man     Woman\n",
              "0         全国  1920  55963053  28044185  27918868\n",
              "1        北海道  1920   2359183   1244322   1114861\n",
              "2        青森県  1920    756454    381293    375161\n",
              "3        岩手県  1920    845540    421069    424471\n",
              "4        宮城県  1920    961768    485309    476459"
            ]
          },
          "metadata": {
            "tags": []
          },
          "execution_count": 4
        }
      ]
    },
    {
      "cell_type": "code",
      "metadata": {
        "id": "dUvmzQCg6NEg",
        "colab_type": "code",
        "outputId": "5a2cde5a-1df8-4276-a28b-0dfc4f771e32",
        "colab": {
          "base_uri": "https://localhost:8080/",
          "height": 85
        }
      },
      "source": [
        "# 北海道に絞り込んで、1920年の総人口のみを表示\n",
        "df_hokkaido = df[df.Prefecture == '北海道']\n",
        "print(df_hokkaido[df.Year == 1920])"
      ],
      "execution_count": 5,
      "outputs": [
        {
          "output_type": "stream",
          "text": [
            "  Prefecture  Year    Total      Man    Woman\n",
            "1        北海道  1920  2359183  1244322  1114861\n"
          ],
          "name": "stdout"
        },
        {
          "output_type": "stream",
          "text": [
            "/usr/local/lib/python3.6/dist-packages/ipykernel_launcher.py:2: UserWarning: Boolean Series key will be reindexed to match DataFrame index.\n",
            "  \n"
          ],
          "name": "stderr"
        }
      ]
    },
    {
      "cell_type": "markdown",
      "metadata": {
        "id": "8dVGR62z_DpP",
        "colab_type": "text"
      },
      "source": [
        "### Pandasを使ってグラフを書く"
      ]
    },
    {
      "cell_type": "code",
      "metadata": {
        "id": "HNjChvvCEz9K",
        "colab_type": "code",
        "colab": {
          "base_uri": "https://localhost:8080/",
          "height": 71
        },
        "outputId": "d92adce6-a71f-42a1-9a74-181a1d51a2fb"
      },
      "source": [
        "#欠損値を含む列、行を削除する\n",
        "df = df.dropna(axis=1)\n",
        "df = df[df['Year'] != '-']\n",
        "df = df[df['Total'] != '-']\n",
        "df = df[df['Man'] != '-']\n",
        "df = df[df['Woman'] != '-']\n",
        "\n",
        "\n",
        "#dfの型を変換\n",
        "df = df.astype({'Year': int})\n",
        "df = df.astype({'Man': int})\n",
        "df = df.astype({'Total': int})\n",
        "df = df.astype({'Woman': int})\n",
        "#, 'Total': int, 'Man': int, 'Woman': int"
      ],
      "execution_count": 6,
      "outputs": [
        {
          "output_type": "stream",
          "text": [
            "/usr/local/lib/python3.6/dist-packages/pandas/core/ops/__init__.py:1115: FutureWarning: elementwise comparison failed; returning scalar instead, but in the future will perform elementwise comparison\n",
            "  result = method(y)\n"
          ],
          "name": "stderr"
        }
      ]
    },
    {
      "cell_type": "code",
      "metadata": {
        "id": "08UW0C7g_I-Y",
        "colab_type": "code",
        "outputId": "9be6d84e-25a4-47d6-bc1c-59107d0031f8",
        "colab": {
          "base_uri": "https://localhost:8080/",
          "height": 290
        }
      },
      "source": [
        "#pnadasが提供するplot関数を使って」グラフを描画\n",
        "import matplotlib.pyplot as plt\n",
        "\n",
        "df[df.Prefecture == '東京都'].plot(x='Year')\n",
        "plt.ylabel('Population')\n",
        "plt.show()"
      ],
      "execution_count": 7,
      "outputs": [
        {
          "output_type": "display_data",
          "data": {
            "image/png": "[encoded data removed]",
            "text/plain": [
              "<Figure size 432x288 with 1 Axes>"
            ]
          },
          "metadata": {
            "tags": []
          }
        }
      ]
    },
    {
      "cell_type": "code",
      "metadata": {
        "id": "1YP05yzaDnzz",
        "colab_type": "code",
        "colab": {
          "base_uri": "https://localhost:8080/",
          "height": 290
        },
        "outputId": "79975cb2-cd37-47ec-9b3a-e02b07adfc30"
      },
      "source": [
        "#Matplotlibが提供するplot関数を使って」グラフを描画\n",
        "df_tokyo = df[df.Prefecture == '東京都']\n",
        "\n",
        "plt.plot(df_tokyo.Year, df_tokyo.Total)\n",
        "\n",
        "plt.xlabel('Year')\n",
        "plt.ylabel('Population')\n",
        "plt.legend\n",
        "\n",
        "plt.show()\n"
      ],
      "execution_count": 8,
      "outputs": [
        {
          "output_type": "display_data",
          "data": {
            "image/png": "[encoded data removed]",
            "text/plain": [
              "<Figure size 432x288 with 1 Axes>"
            ]
          },
          "metadata": {
            "tags": []
          }
        }
      ]
    },
    {
      "cell_type": "markdown",
      "metadata": {
        "id": "RyFJOOXaRtFL",
        "colab_type": "text"
      },
      "source": [
        "### pandasを使ったデータの並び替え"
      ]
    },
    {
      "cell_type": "code",
      "metadata": {
        "id": "uLVYPausRzCc",
        "colab_type": "code",
        "colab": {}
      },
      "source": [
        "# 2015年のデータを人口の多い順に並べる\n",
        "df2015 = df[df.Year == 2015]\n",
        "\n",
        "# byでsortする列の指定、\n",
        "# ascending:true → 昇順\n",
        "# ascending:False → 降順\n",
        "df2015.sort_values(by = 'Total',ascending=False)"
      ],
      "execution_count": 0,
      "outputs": []
    },
    {
      "cell_type": "markdown",
      "metadata": {
        "id": "dUBVql3ZPRs_",
        "colab_type": "text"
      },
      "source": [
        "### pandasを使ったグルーピング"
      ]
    },
    {
      "cell_type": "code",
      "metadata": {
        "id": "XVgNa3oROOUd",
        "colab_type": "code",
        "colab": {
          "base_uri": "https://localhost:8080/",
          "height": 290
        },
        "outputId": "d6a5df3f-3d74-4020-ee93-40a8cedef694"
      },
      "source": [
        "# 年度毎にグループにまとめる\n",
        "grouped = df.groupby('Year')\n",
        "\n",
        "# 各都道府県の総人口の和\n",
        "grouped['Total'].sum().plot()\n",
        "plt.ylabel('Production')\n",
        "plt.legend()\n",
        "\n",
        "plt.show()"
      ],
      "execution_count": 19,
      "outputs": [
        {
          "output_type": "display_data",
          "data": {
            "image/png": "[encoded data removed]",
            "text/plain": [
              "<Figure size 432x288 with 1 Axes>"
            ]
          },
          "metadata": {
            "tags": []
          }
        }
      ]
    },
    {
      "cell_type": "markdown",
      "metadata": {
        "id": "ZNMhlSGQRBWB",
        "colab_type": "text"
      },
      "source": [
        "練習問題\n",
        "年度毎に女性の総人口を計算しグラフで表す"
      ]
    },
    {
      "cell_type": "code",
      "metadata": {
        "id": "MM_i7UL_Q7c8",
        "colab_type": "code",
        "colab": {
          "base_uri": "https://localhost:8080/",
          "height": 290
        },
        "outputId": "04c4ff0e-ae1e-4aec-9503-e681728eae9d"
      },
      "source": [
        "# 年度毎にグルーピング\n",
        "grouped = df.groupby('Year')\n",
        "\n",
        "# 各都道府県の女性の総人口の和\n",
        "grouped['Woman'].sum().plot()\n",
        "plt.ylabel('women_production')\n",
        "plt.legend()\n",
        "\n",
        "plt.show()"
      ],
      "execution_count": 23,
      "outputs": [
        {
          "output_type": "display_data",
          "data": {
            "image/png": "[encoded data removed]",
            "text/plain": [
              "<Figure size 432x288 with 1 Axes>"
            ]
          },
          "metadata": {
            "tags": []
          }
        }
      ]
    },
    {
      "cell_type": "markdown",
      "metadata": {
        "id": "HOvGk0BKSSaW",
        "colab_type": "text"
      },
      "source": [
        "### pandasを使ってグルーピング&代表値を抽出\n",
        "各都道府県の一番人口が多かった年のデータだけを取り出す"
      ]
    },
    {
      "cell_type": "code",
      "metadata": {
        "id": "aK2PylVgSSA5",
        "colab_type": "code",
        "colab": {}
      },
      "source": [
        "# 各都道府県の総人口が一番多い年ならTrue, そうでないならFalse\n",
        "idx = df.groupby('Prefecture').Total.transform(max) == df.Total\n",
        "\n",
        "idx\n",
        "\n",
        "# 各都道府県の最大人口の年だけを表示する\n",
        "df[idx]"
      ],
      "execution_count": 0,
      "outputs": []
    },
    {
      "cell_type": "markdown",
      "metadata": {
        "id": "dqMhWkI0UeqF",
        "colab_type": "text"
      },
      "source": [
        "### pandasを使って列の追加"
      ]
    },
    {
      "cell_type": "code",
      "metadata": {
        "id": "717eDW4mUePg",
        "colab_type": "code",
        "colab": {
          "base_uri": "https://localhost:8080/",
          "height": 419
        },
        "outputId": "bd8d73b3-c4e9-41c9-a141-27e416821023"
      },
      "source": [
        "# 女性人口の比率を計算した列を追加\n",
        "df['WomenRatio'] = df.Woman / df.Total *100\n",
        "df"
      ],
      "execution_count": 29,
      "outputs": [
        {
          "output_type": "execute_result",
          "data": {
            "text/html": [
              "<div>\n",
              "<style scoped>\n",
              "    .dataframe tbody tr th:only-of-type {\n",
              "        vertical-align: middle;\n",
              "    }\n",
              "\n",
              "    .dataframe tbody tr th {\n",
              "        vertical-align: top;\n",
              "    }\n",
              "\n",
              "    .dataframe thead th {\n",
              "        text-align: right;\n",
              "    }\n",
              "</style>\n",
              "<table border=\"1\" class=\"dataframe\">\n",
              "  <thead>\n",
              "    <tr style=\"text-align: right;\">\n",
              "      <th></th>\n",
              "      <th>Prefecture</th>\n",
              "      <th>Year</th>\n",
              "      <th>Total</th>\n",
              "      <th>Man</th>\n",
              "      <th>Woman</th>\n",
              "      <th>WomenRatio</th>\n",
              "    </tr>\n",
              "  </thead>\n",
              "  <tbody>\n",
              "    <tr>\n",
              "      <th>0</th>\n",
              "      <td>全国</td>\n",
              "      <td>1920</td>\n",
              "      <td>55963053</td>\n",
              "      <td>28044185</td>\n",
              "      <td>27918868</td>\n",
              "      <td>49.888036</td>\n",
              "    </tr>\n",
              "    <tr>\n",
              "      <th>1</th>\n",
              "      <td>北海道</td>\n",
              "      <td>1920</td>\n",
              "      <td>2359183</td>\n",
              "      <td>1244322</td>\n",
              "      <td>1114861</td>\n",
              "      <td>47.256232</td>\n",
              "    </tr>\n",
              "    <tr>\n",
              "      <th>2</th>\n",
              "      <td>青森県</td>\n",
              "      <td>1920</td>\n",
              "      <td>756454</td>\n",
              "      <td>381293</td>\n",
              "      <td>375161</td>\n",
              "      <td>49.594688</td>\n",
              "    </tr>\n",
              "    <tr>\n",
              "      <th>3</th>\n",
              "      <td>岩手県</td>\n",
              "      <td>1920</td>\n",
              "      <td>845540</td>\n",
              "      <td>421069</td>\n",
              "      <td>424471</td>\n",
              "      <td>50.201173</td>\n",
              "    </tr>\n",
              "    <tr>\n",
              "      <th>4</th>\n",
              "      <td>宮城県</td>\n",
              "      <td>1920</td>\n",
              "      <td>961768</td>\n",
              "      <td>485309</td>\n",
              "      <td>476459</td>\n",
              "      <td>49.539910</td>\n",
              "    </tr>\n",
              "    <tr>\n",
              "      <th>...</th>\n",
              "      <td>...</td>\n",
              "      <td>...</td>\n",
              "      <td>...</td>\n",
              "      <td>...</td>\n",
              "      <td>...</td>\n",
              "      <td>...</td>\n",
              "    </tr>\n",
              "    <tr>\n",
              "      <th>955</th>\n",
              "      <td>熊本県</td>\n",
              "      <td>2015</td>\n",
              "      <td>1786170</td>\n",
              "      <td>841046</td>\n",
              "      <td>945124</td>\n",
              "      <td>52.913440</td>\n",
              "    </tr>\n",
              "    <tr>\n",
              "      <th>956</th>\n",
              "      <td>大分県</td>\n",
              "      <td>2015</td>\n",
              "      <td>1166338</td>\n",
              "      <td>551932</td>\n",
              "      <td>614406</td>\n",
              "      <td>52.678212</td>\n",
              "    </tr>\n",
              "    <tr>\n",
              "      <th>957</th>\n",
              "      <td>宮崎県</td>\n",
              "      <td>2015</td>\n",
              "      <td>1104069</td>\n",
              "      <td>519242</td>\n",
              "      <td>584827</td>\n",
              "      <td>52.970150</td>\n",
              "    </tr>\n",
              "    <tr>\n",
              "      <th>958</th>\n",
              "      <td>鹿児島県</td>\n",
              "      <td>2015</td>\n",
              "      <td>1648177</td>\n",
              "      <td>773061</td>\n",
              "      <td>875116</td>\n",
              "      <td>53.095996</td>\n",
              "    </tr>\n",
              "    <tr>\n",
              "      <th>959</th>\n",
              "      <td>沖縄県</td>\n",
              "      <td>2015</td>\n",
              "      <td>1433566</td>\n",
              "      <td>704619</td>\n",
              "      <td>728947</td>\n",
              "      <td>50.848513</td>\n",
              "    </tr>\n",
              "  </tbody>\n",
              "</table>\n",
              "<p>959 rows × 6 columns</p>\n",
              "</div>"
            ],
            "text/plain": [
              "    Prefecture  Year     Total       Man     Woman  WomenRatio\n",
              "0           全国  1920  55963053  28044185  27918868   49.888036\n",
              "1          北海道  1920   2359183   1244322   1114861   47.256232\n",
              "2          青森県  1920    756454    381293    375161   49.594688\n",
              "3          岩手県  1920    845540    421069    424471   50.201173\n",
              "4          宮城県  1920    961768    485309    476459   49.539910\n",
              "..         ...   ...       ...       ...       ...         ...\n",
              "955        熊本県  2015   1786170    841046    945124   52.913440\n",
              "956        大分県  2015   1166338    551932    614406   52.678212\n",
              "957        宮崎県  2015   1104069    519242    584827   52.970150\n",
              "958       鹿児島県  2015   1648177    773061    875116   53.095996\n",
              "959        沖縄県  2015   1433566    704619    728947   50.848513\n",
              "\n",
              "[959 rows x 6 columns]"
            ]
          },
          "metadata": {
            "tags": []
          },
          "execution_count": 29
        }
      ]
    }
  ]
}