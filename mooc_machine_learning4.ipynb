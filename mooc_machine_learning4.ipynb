{
  "nbformat": 4,
  "nbformat_minor": 0,
  "metadata": {
    "colab": {
      "name": "mooc_machine_learning4.ipynb",
      "provenance": [],
      "include_colab_link": true
    },
    "kernelspec": {
      "name": "python3",
      "display_name": "Python 3"
    }
  },
  "cells": [
    {
      "cell_type": "markdown",
      "metadata": {
        "id": "view-in-github",
        "colab_type": "text"
      },
      "source": [
        "<a href=\"https://colab.research.google.com/github/momohirata/mooc_machine_learning/blob/master/mooc_machine_learning4.ipynb\" target=\"_parent\"><img src=\"https://colab.research.google.com/assets/colab-badge.svg\" alt=\"Open In Colab\"/></a>"
      ]
    },
    {
      "cell_type": "markdown",
      "metadata": {
        "id": "D3dY-yd0gZFi",
        "colab_type": "text"
      },
      "source": [
        "### 決定木\n",
        "<img src=\"https://drive.google.com/uc?export=view&id=1aVmLXIelhipqMve0hPOTxHCtXsoMf204\" width=\"400\">\n",
        "\n",
        "「炎上する」「炎上しない」を分けるような特徴を探していくことが学習\n",
        "\n",
        "<img src=\"https://drive.google.com/uc?export=view&id=175WRW9YfGepJd_67E1QZU3_pNFd7k6Gh\" width=\"400\">\n",
        "\n",
        "3種類アイリスがあって、3種類が同確率で出てくるとき → 不純度が高い\n",
        "3種類アイリスがあって、1種類しか出てこないとき → 不純度が低い\n",
        "\n",
        "\n"
      ]
    },
    {
      "cell_type": "code",
      "metadata": {
        "id": "CN7jLXMOgYxM",
        "colab_type": "code",
        "colab": {
          "base_uri": "https://localhost:8080/",
          "height": 51
        },
        "outputId": "a5d5406b-e5dc-4089-c615-8751950a7e38"
      },
      "source": [
        "# 決定木\n",
        "\n",
        "# データを取得\n",
        "import sklearn.datasets as datasets\n",
        "from sklearn.model_selection import train_test_split\n",
        "iris = datasets.load_iris()\n",
        "\n",
        "X = iris.data\n",
        "y = iris.target\n",
        "X_train, X_test, y_train, y_test = train_test_split(X, y, random_state=27)\n",
        "\n",
        "from sklearn.tree import DecisionTreeClassifier\n",
        "model = DecisionTreeClassifier(random_state=27) # 不純度基準はjiniからdefault→entropy\n",
        "model.fit(X_train, y_train)\n",
        "\n",
        "print(model.score(X_train, y_train))\n",
        "print(model.score(X_test, y_test))\n"
      ],
      "execution_count": 10,
      "outputs": [
        {
          "output_type": "stream",
          "text": [
            "1.0\n",
            "0.8947368421052632\n"
          ],
          "name": "stdout"
        }
      ]
    },
    {
      "cell_type": "markdown",
      "metadata": {
        "id": "BxCK3vAVlERa",
        "colab_type": "text"
      },
      "source": [
        "k-NNよりは精度が悪いけど、まあまあ良い\n",
        "決定木は人が見てわかりやすいのが良いところ\n",
        "\n",
        "### 決定木の枝刈り\n",
        "決定木は深くなるほど複雑さが増す → 深くなるのを止めてシンプルを保つ\n",
        "\n",
        "### 事前枝刈り"
      ]
    },
    {
      "cell_type": "code",
      "metadata": {
        "id": "YpUaQLzAgLxP",
        "colab_type": "code",
        "colab": {
          "base_uri": "https://localhost:8080/",
          "height": 51
        },
        "outputId": "fc097486-f04a-4fa0-e101-d3a8019036b9"
      },
      "source": [
        "# 事前枝刈り\n",
        "model = DecisionTreeClassifier(max_depth=3, random_state=27)\n",
        "model.fit(X_train, y_train)\n",
        "\n",
        "print(model.score(X_train, y_train))\n",
        "print(model.score(X_test, y_test))\n",
        "# シンプルにすることで、モデルに対する精度は下がったが、テストデータに対する精度はあがった"
      ],
      "execution_count": 11,
      "outputs": [
        {
          "output_type": "stream",
          "text": [
            "0.9821428571428571\n",
            "0.9736842105263158\n"
          ],
          "name": "stdout"
        }
      ]
    },
    {
      "cell_type": "markdown",
      "metadata": {
        "id": "KS3s-DSKmmd2",
        "colab_type": "text"
      },
      "source": [
        "### アンサンブル学習\n",
        "複数の学習器を作って、結果を混ぜて結論を出す\n",
        "\n",
        "<img src=\"https://drive.google.com/uc?export=view&id=1L3sJ2YtF9TrHYIOiAsHhbBuvssEYvFP0\" width=\"400\">\n",
        "\n",
        "\n",
        "1. ブートストラップでデータを3つにわける\n",
        "2. ハイパーパラメーターを変えた3つの決定木をつくる\n",
        "3. 3つを集約する\n",
        "\n",
        "↓\n",
        "\n",
        "これが**ランダムフォレスト**\n",
        "\n",
        "\n",
        "決定木はBiasが小さくてValianceが大きい\n",
        "\n",
        "つまり\n",
        "\n",
        "真の表現には近いけど、ばらつきが大きい\n",
        "\n",
        "だから\n",
        "\n",
        "たくさん作っておけば、いい感じにばらつきが収まるのでは？という考え方"
      ]
    },
    {
      "cell_type": "markdown",
      "metadata": {
        "id": "xWZd55Rno-IW",
        "colab_type": "text"
      },
      "source": [
        "### サポートベクターマシーン\n",
        "\n",
        "<img src=\"https://drive.google.com/uc?export=view&id=1Yk5MxaSgZ8hjivLi-LL8cUbtY_E7Om7n\" width=\"400\">\n",
        "\n",
        "<img src=\"https://drive.google.com/uc?export=view&id=1f23T5qrRdLFnSMBjPWgzIWyi3Fu-mIdk\" width=\"400\">\n",
        "\n",
        "<img src=\"https://drive.google.com/uc?export=view&id=1OcVY0Kn_R0qcBqAQpIIvMpB6LScrGDqt\" width=\"400\">\n",
        "\n",
        "<img src=\"https://drive.google.com/uc?export=view&id=1MK6-Mylc-tw5DejapTQ72OvvCoqryNE7\" width=\"400\">\n",
        "\n",
        "<img src=\"https://drive.google.com/uc?export=view&id=11Cj8UbVZPMDVgGHOGPbchZjAXz46xUIV\" width=\"400\">\n",
        "\n",
        "### ソフトマージン\n",
        "無理に完全に分離するよりも、少しだけ外れ値を許容するほうが望ましいこともある\n",
        "※ 未知のデータに対して適応しやすいモデルになるため\n",
        "\n",
        "\n"
      ]
    },
    {
      "cell_type": "code",
      "metadata": {
        "id": "XdOQ7LYLogVa",
        "colab_type": "code",
        "colab": {
          "base_uri": "https://localhost:8080/",
          "height": 265
        },
        "outputId": "23ff730a-ed4e-4058-9d6f-aba0a74e5954"
      },
      "source": [
        "# データの作成\n",
        "%matplotlib inline\n",
        "from sklearn import datasets\n",
        "import matplotlib.pyplot as plt\n",
        "\n",
        "X, y = datasets.make_blobs(n_samples=100, centers=2, random_state=1)\n",
        "plt.scatter(X[y==0,0], X[y==0,1], c='red')\n",
        "plt.scatter(X[y==1,0], X[y==1,1], c='blue')\n",
        "plt.show()"
      ],
      "execution_count": 15,
      "outputs": [
        {
          "output_type": "display_data",
          "data": {
            "image/png": "[encoded data removed]",
            "text/plain": [
              "<Figure size 432x288 with 1 Axes>"
            ]
          },
          "metadata": {
            "tags": []
          }
        }
      ]
    },
    {
      "cell_type": "code",
      "metadata": {
        "id": "bE8hqOV4sda6",
        "colab_type": "code",
        "colab": {
          "base_uri": "https://localhost:8080/",
          "height": 265
        },
        "outputId": "24a256e2-0320-42fc-b630-e4dafbc29bd0"
      },
      "source": [
        "import numpy as np\n",
        "from sklearn.svm import LinearSVC\n",
        "model = LinearSVC(C=1.0).fit(X, y) #線形のSVC\n",
        "\n",
        "# グラフに線を引きたい\n",
        "coefs = model.coef_\n",
        "intercepts = model.intercept_\n",
        "plt.scatter(X[y==0,0], X[y==0,1], c='red')\n",
        "plt.scatter(X[y==1,0], X[y==1,1], c='blue')\n",
        "line_x = np.linspace(-13,1)\n",
        "line_y = -(line_x*coefs[0][0] + intercepts[0])/coefs[0][1]\n",
        "plt.plot(line_x, line_y)\n",
        "plt.show()"
      ],
      "execution_count": 20,
      "outputs": [
        {
          "output_type": "display_data",
          "data": {
            "image/png": "[encoded data removed]",
            "text/plain": [
              "<Figure size 432x288 with 1 Axes>"
            ]
          },
          "metadata": {
            "tags": []
          }
        }
      ]
    },
    {
      "cell_type": "code",
      "metadata": {
        "id": "I5UOJ8cUvL7u",
        "colab_type": "code",
        "colab": {
          "base_uri": "https://localhost:8080/",
          "height": 567
        },
        "outputId": "d961141d-6583-4a67-8480-82fcf7ed5fc0"
      },
      "source": [
        "# 多クラス分類\n",
        "# データ作成\n",
        "from sklearn import datasets\n",
        "import matplotlib.pyplot as plt\n",
        "\n",
        "X, y = datasets.make_blobs(centers=3, random_state=1)\n",
        "plt.scatter(X[y==0,0], X[y==0,1], c='red')\n",
        "plt.scatter(X[y==1,0], X[y==1,1], c='blue')\n",
        "plt.scatter(X[y==2,0], X[y==2,1], c='green')\n",
        "plt.show()\n",
        "\n",
        "import numpy as np\n",
        "from sklearn.svm import LinearSVC\n",
        "model = LinearSVC(C=1.0).fit(X, y) #線形のSVC\n",
        "\n",
        "# グラフに線を引きたい\n",
        "coefs = model.coef_\n",
        "intercepts = model.intercept_\n",
        "\n",
        "plt.scatter(X[y==0,0], X[y==0,1], c='red')\n",
        "plt.scatter(X[y==1,0], X[y==1,1], c='blue')\n",
        "plt.scatter(X[y==2,0], X[y==2,1], c='green')\n",
        "line_x = np.linspace(-12,0)\n",
        "\n",
        "for i in range(0,3):\n",
        "    line_y = -(line_x*coefs[i][0] + intercepts[i])/coefs[i][1]\n",
        "    plt.plot(line_x, line_y)\n",
        "\n",
        "plt.show()"
      ],
      "execution_count": 22,
      "outputs": [
        {
          "output_type": "display_data",
          "data": {
            "image/png": "[encoded data removed]",
            "text/plain": [
              "<Figure size 432x288 with 1 Axes>"
            ]
          },
          "metadata": {
            "tags": []
          }
        },
        {
          "output_type": "stream",
          "text": [
            "/usr/local/lib/python3.6/dist-packages/sklearn/svm/base.py:929: ConvergenceWarning: Liblinear failed to converge, increase the number of iterations.\n",
            "  \"the number of iterations.\", ConvergenceWarning)\n"
          ],
          "name": "stderr"
        },
        {
          "output_type": "display_data",
          "data": {
            "image/png": "[encoded data removed]",
            "text/plain": [
              "<Figure size 432x288 with 1 Axes>"
            ]
          },
          "metadata": {
            "tags": []
          }
        }
      ]
    },
    {
      "cell_type": "markdown",
      "metadata": {
        "id": "M68h8w0uwR1F",
        "colab_type": "text"
      },
      "source": [
        "サポートベクターマシーンの良いところ\n",
        "線形じゃないデータを線形に分類できるところ\n",
        "\n",
        "<img src=\"https://drive.google.com/uc?export=view&id=1ouTegL-6bIBuyJ3Obm0-zyIdh4b7LOo4\" width=\"400\">\n",
        "\n",
        "<img src=\"https://drive.google.com/uc?export=view&id=1CCsaWpnpdU7zhPK9KnHfUU_nc26rfprf\" width=\"400\">\n",
        "\n",
        "方法がカーネルトリック(割愛)"
      ]
    },
    {
      "cell_type": "code",
      "metadata": {
        "id": "mbC2HvVZxt2s",
        "colab_type": "code",
        "colab": {
          "base_uri": "https://localhost:8080/",
          "height": 269
        },
        "outputId": "606334ab-c61d-45c6-cb39-28d6d5926bf0"
      },
      "source": [
        "# RBFカーネルを使ってみる\n",
        "%matplotlib inline\n",
        "from sklearn import datasets\n",
        "from sklearn import svm\n",
        "from mlxtend.plotting import  plot_decision_regions\n",
        "import matplotlib.pyplot as plt\n",
        "\n",
        "X, y = datasets.make_blobs(centers=3, random_state=1)\n",
        "model = svm.SVC(kernel='rbf', C=1, gamma=1) \n",
        "#c:どれだけ間違って良いか(ソフトマージン) gamma:パラメータ\n",
        "model.fit(X,y)\n",
        "\n",
        "plot_decision_regions(X=X, y=y, clf=model)\n",
        "plt.show()\n",
        "#C,gammaを調整すると輪っかの大きさが変わる"
      ],
      "execution_count": 24,
      "outputs": [
        {
          "output_type": "display_data",
          "data": {
            "image/png": "[encoded data removed]",
            "text/plain": [
              "<Figure size 432x288 with 1 Axes>"
            ]
          },
          "metadata": {
            "tags": []
          }
        }
      ]
    },
    {
      "cell_type": "markdown",
      "metadata": {
        "id": "kChAlE3CzJC_",
        "colab_type": "text"
      },
      "source": [
        "<img src=\"https://drive.google.com/uc?export=view&id=1VPfvrpSSSOW5eFtFDMc1FA-bwBcFbBPs\" width=\"400\">\n",
        "\n",
        "±ε以上の誤差(サポートベクター)をみる\n",
        "\n",
        "h <= ±ε だったら 0を返す\n",
        "\n",
        "h > ±ε だったら そのままの値を返す\n",
        "\n",
        "その和を足したものを最小化"
      ]
    },
    {
      "cell_type": "markdown",
      "metadata": {
        "id": "BM8czIpk0Fh8",
        "colab_type": "text"
      },
      "source": [
        "# 教師なし学習\n",
        "\n",
        "<img src=\"https://drive.google.com/uc?export=view&id=1oajCljsM_DgdGXALdHD4jdg6aiQ55LW4\" width=\"400\">\n",
        "\n",
        "<img src=\"https://drive.google.com/uc?export=view&id=1N3gPnvyuxIvZ2_NddTuibXNddFK6R70V\" width=\"400\">\n",
        "\n",
        "kの値は人が決める\n",
        "\n",
        "**step1**. 適当に3点決める\n",
        "\n",
        "**step2**. 一番近い点(red,blue,green)の仲間に入れます\n",
        "\n",
        "**step3**. 3このクラスタの重心(平均)をそれぞれ求めて、新しいmeanにする\n",
        "\n",
        "**step4**. 新しいmeanに基づいて分類\n",
        "\n",
        "これをクラスタが変わらなくなるまで繰り返す\n",
        "\n",
        "\n",
        "一番最初のmeanの選び方によって結果が変わる\n",
        "\n",
        "scikit-learnのmeanは最初からいい感じに選ばれてるのでご安心を。\n",
        "\n",
        "\n",
        "\n"
      ]
    },
    {
      "cell_type": "code",
      "metadata": {
        "id": "vHlhHk5x2Q0X",
        "colab_type": "code",
        "colab": {
          "base_uri": "https://localhost:8080/",
          "height": 265
        },
        "outputId": "d24c569c-6a57-4a45-8668-2916f87f6c47"
      },
      "source": [
        "%matplotlib inline\n",
        "\n",
        "#データ生成\n",
        "from sklearn import datasets\n",
        "import matplotlib.pyplot as plt\n",
        "X, y = datasets.make_blobs(centers=20, random_state=5)\n",
        "plt.scatter(X[:,0], X[:,1])\n",
        "plt.show()"
      ],
      "execution_count": 25,
      "outputs": [
        {
          "output_type": "display_data",
          "data": {
            "image/png": "[encoded data removed]",
            "text/plain": [
              "<Figure size 432x288 with 1 Axes>"
            ]
          },
          "metadata": {
            "tags": []
          }
        }
      ]
    },
    {
      "cell_type": "code",
      "metadata": {
        "id": "UMl8BnIO23Z4",
        "colab_type": "code",
        "colab": {
          "base_uri": "https://localhost:8080/",
          "height": 316
        },
        "outputId": "2ce725d4-734f-4afd-c0b5-215d8e4578f3"
      },
      "source": [
        "# 分類してみる\n",
        "from sklearn.cluster import KMeans\n",
        "model = KMeans(n_clusters=3)\n",
        "model.fit(X)\n",
        "print(model.labels_)\n",
        "#予測するものがないのでpredictはないです。\n",
        "\n",
        "plt.scatter(X[model.labels_==0,0], X[model.labels_==0,1], c='red')\n",
        "plt.scatter(X[model.labels_==1,0], X[model.labels_==1,1], c='blue')\n",
        "plt.scatter(X[model.labels_==2,0], X[model.labels_==2,1], c='green')\n",
        "plt.show()"
      ],
      "execution_count": 30,
      "outputs": [
        {
          "output_type": "stream",
          "text": [
            "[1 2 1 1 1 1 2 0 0 2 2 0 1 1 2 1 2 2 2 0 0 2 0 0 1 0 0 0 2 1 1 0 1 0 1 2 0\n",
            " 2 0 1 2 0 1 1 2 2 0 1 2 2 0 1 1 2 1 0 0 2 2 1 0 2 1 2 0 1 2 2 2 0 0 1 1 2\n",
            " 2 1 0 1 2 2 2 0 1 2 2 2 2 2 0 1 0 2 0 2 1 1 1 0 2 0]\n"
          ],
          "name": "stdout"
        },
        {
          "output_type": "display_data",
          "data": {
            "image/png": "[encoded data removed]",
            "text/plain": [
              "<Figure size 432x288 with 1 Axes>"
            ]
          },
          "metadata": {
            "tags": []
          }
        }
      ]
    },
    {
      "cell_type": "markdown",
      "metadata": {
        "id": "xEa5eTqD3_cI",
        "colab_type": "text"
      },
      "source": [
        "<img src=\"https://drive.google.com/uc?export=view&id=1PBQm1C0n9XxgfQCE8xV4yASxWEO0hDYc\" width=\"400\">"
      ]
    },
    {
      "cell_type": "markdown",
      "metadata": {
        "id": "goqJ7FPR4T5p",
        "colab_type": "text"
      },
      "source": [
        "### DBSCANの実装\n"
      ]
    },
    {
      "cell_type": "code",
      "metadata": {
        "id": "Tr6WjeQx4TD4",
        "colab_type": "code",
        "colab": {
          "base_uri": "https://localhost:8080/",
          "height": 265
        },
        "outputId": "1ea79e9e-8b33-4ac1-fd8a-da6e8a6739ed"
      },
      "source": [
        "#データ生成\n",
        "from sklearn import datasets\n",
        "import matplotlib.pyplot as plt\n",
        "X, y = datasets.make_moons(n_samples=300, noise=.05)\n",
        "\n",
        "from sklearn.cluster import DBSCAN\n",
        "model = DBSCAN(eps=0.3)\n",
        "model.fit(X)\n",
        "\n",
        "plt.scatter(X[model.labels_==0,0], X[model.labels_==0,1], c='blue')\n",
        "plt.scatter(X[model.labels_==1,0], X[model.labels_==1,1], c='green')\n",
        "plt.show()"
      ],
      "execution_count": 35,
      "outputs": [
        {
          "output_type": "display_data",
          "data": {
            "image/png": "[encoded data removed]",
            "text/plain": [
              "<Figure size 432x288 with 1 Axes>"
            ]
          },
          "metadata": {
            "tags": []
          }
        }
      ]
    },
    {
      "cell_type": "markdown",
      "metadata": {
        "id": "TeOJNGSC5hD1",
        "colab_type": "text"
      },
      "source": [
        "半径ε以内にあれば、自分の仲間にする\n",
        "\n",
        "ただし、εを大きくしすぎるとみんな仲間になっちゃって、1つのグループになってしまうので\n",
        "\n",
        "εの調整が重要\n",
        "\n",
        "- 利点\n",
        "\n",
        "    k-meansのようにクラスタ数を指定しなくて良い\n",
        "\n",
        "    いろいろな形状のクラスタに対応できる\n",
        "\n",
        "    外れ値を抽出できる\n",
        "\n",
        "    →外れ値は仲間がいないので１人だけのグループになる\n",
        "\n",
        "    外れ値に影響されずにクラスタリングできる\n",
        "\n",
        "- 欠点\n",
        "    決定的ではない(毎回結果が変わる可能性がある)\n",
        "    \n",
        "    ※ k-meansも同様\n",
        "\n",
        "    適切なパラメータを決定するのが難しい\n",
        "\n",
        "\n",
        "<img src=\"https://drive.google.com/uc?export=view&id=1mQjq54lK9alxvzvXfaw_eWaVoj7Uye4P\" width=\"400\">\n",
        "\n"
      ]
    },
    {
      "cell_type": "markdown",
      "metadata": {
        "id": "0JevTFzi8hbg",
        "colab_type": "text"
      },
      "source": [
        "### アソシエーション分析\n",
        "\n",
        "**Support(支持度)**\n",
        "\n",
        "このルールに沿った人がたくさんいる→良いルールだ。という考え方\n",
        "\n",
        "※あまりにも支持度が高すぎると当たり前のルールなので意味がない\n",
        "\n",
        "**Confidence(信頼度)**\n",
        "\n",
        "りんごを買った人の中で、ばななを買う人は何%なのか\n",
        "\n",
        "**Lift(リフト値)**\n",
        "\n",
        "りんごを買うことによってどれだけバナナを買う確率があがったか"
      ]
    },
    {
      "cell_type": "code",
      "metadata": {
        "id": "Npq56E2W-Zp5",
        "colab_type": "code",
        "colab": {
          "base_uri": "https://localhost:8080/",
          "height": 204
        },
        "outputId": "58f3c5e9-1ee7-4bd2-9c16-4f9bd16fc231"
      },
      "source": [
        "# アソシエーション分析を実装\n",
        "import pandas as pd\n",
        "from mlxtend.preprocessing import TransactionEncoder\n",
        "\n",
        "dataset = [['Milk', 'Onion', 'Nutmeg', 'Beans', 'Egg', 'Yogurt'], #お買い物リスト1\n",
        "           ['Dill', 'Onion', 'Nutmeg', 'Beans', 'Egg', 'Yogurt'], #お買い物リスト2\n",
        "           ['Milk', 'Apple', 'Beans', 'Egg'], #お買い物リスト3\n",
        "           ['Milk', 'Unicorn', 'Corn', 'Beans', 'Yogurt'], #お買い物リスト4\n",
        "           ['Corn', 'Onion', 'Onion', 'Cream', 'Egg']] #お買い物リスト5\n",
        "te = TransactionEncoder()\n",
        "#fit: ユニークラベルを学習, transform: one-hot形式に変換\n",
        "te_ary = te.fit(dataset).transform(dataset)\n",
        "df = pd.DataFrame(te_ary, columns=te.columns_)\n",
        "df"
      ],
      "execution_count": 36,
      "outputs": [
        {
          "output_type": "execute_result",
          "data": {
            "text/html": [
              "<div>\n",
              "<style scoped>\n",
              "    .dataframe tbody tr th:only-of-type {\n",
              "        vertical-align: middle;\n",
              "    }\n",
              "\n",
              "    .dataframe tbody tr th {\n",
              "        vertical-align: top;\n",
              "    }\n",
              "\n",
              "    .dataframe thead th {\n",
              "        text-align: right;\n",
              "    }\n",
              "</style>\n",
              "<table border=\"1\" class=\"dataframe\">\n",
              "  <thead>\n",
              "    <tr style=\"text-align: right;\">\n",
              "      <th></th>\n",
              "      <th>Apple</th>\n",
              "      <th>Beans</th>\n",
              "      <th>Corn</th>\n",
              "      <th>Cream</th>\n",
              "      <th>Dill</th>\n",
              "      <th>Egg</th>\n",
              "      <th>Milk</th>\n",
              "      <th>Nutmeg</th>\n",
              "      <th>Onion</th>\n",
              "      <th>Unicorn</th>\n",
              "      <th>Yogurt</th>\n",
              "    </tr>\n",
              "  </thead>\n",
              "  <tbody>\n",
              "    <tr>\n",
              "      <th>0</th>\n",
              "      <td>False</td>\n",
              "      <td>True</td>\n",
              "      <td>False</td>\n",
              "      <td>False</td>\n",
              "      <td>False</td>\n",
              "      <td>True</td>\n",
              "      <td>True</td>\n",
              "      <td>True</td>\n",
              "      <td>True</td>\n",
              "      <td>False</td>\n",
              "      <td>True</td>\n",
              "    </tr>\n",
              "    <tr>\n",
              "      <th>1</th>\n",
              "      <td>False</td>\n",
              "      <td>True</td>\n",
              "      <td>False</td>\n",
              "      <td>False</td>\n",
              "      <td>True</td>\n",
              "      <td>True</td>\n",
              "      <td>False</td>\n",
              "      <td>True</td>\n",
              "      <td>True</td>\n",
              "      <td>False</td>\n",
              "      <td>True</td>\n",
              "    </tr>\n",
              "    <tr>\n",
              "      <th>2</th>\n",
              "      <td>True</td>\n",
              "      <td>True</td>\n",
              "      <td>False</td>\n",
              "      <td>False</td>\n",
              "      <td>False</td>\n",
              "      <td>True</td>\n",
              "      <td>True</td>\n",
              "      <td>False</td>\n",
              "      <td>False</td>\n",
              "      <td>False</td>\n",
              "      <td>False</td>\n",
              "    </tr>\n",
              "    <tr>\n",
              "      <th>3</th>\n",
              "      <td>False</td>\n",
              "      <td>True</td>\n",
              "      <td>True</td>\n",
              "      <td>False</td>\n",
              "      <td>False</td>\n",
              "      <td>False</td>\n",
              "      <td>True</td>\n",
              "      <td>False</td>\n",
              "      <td>False</td>\n",
              "      <td>True</td>\n",
              "      <td>True</td>\n",
              "    </tr>\n",
              "    <tr>\n",
              "      <th>4</th>\n",
              "      <td>False</td>\n",
              "      <td>False</td>\n",
              "      <td>True</td>\n",
              "      <td>True</td>\n",
              "      <td>False</td>\n",
              "      <td>True</td>\n",
              "      <td>False</td>\n",
              "      <td>False</td>\n",
              "      <td>True</td>\n",
              "      <td>False</td>\n",
              "      <td>False</td>\n",
              "    </tr>\n",
              "  </tbody>\n",
              "</table>\n",
              "</div>"
            ],
            "text/plain": [
              "   Apple  Beans   Corn  Cream   Dill  ...   Milk  Nutmeg  Onion  Unicorn  Yogurt\n",
              "0  False   True  False  False  False  ...   True    True   True    False    True\n",
              "1  False   True  False  False   True  ...  False    True   True    False    True\n",
              "2   True   True  False  False  False  ...   True   False  False    False   False\n",
              "3  False   True   True  False  False  ...   True   False  False     True    True\n",
              "4  False  False   True   True  False  ...  False   False   True    False   False\n",
              "\n",
              "[5 rows x 11 columns]"
            ]
          },
          "metadata": {
            "tags": []
          },
          "execution_count": 36
        }
      ]
    },
    {
      "cell_type": "code",
      "metadata": {
        "id": "BtT5Z95vAIYj",
        "colab_type": "code",
        "colab": {
          "base_uri": "https://localhost:8080/",
          "height": 328
        },
        "outputId": "9b657f86-a5f9-4545-ae0c-159646a96264"
      },
      "source": [
        "from mlxtend.frequent_patterns import  apriori\n",
        "\n",
        "#アプリオリアルゴリズムの中に↑で作ったdataframeを入れて、最小支持度を入れてあげる\n",
        "frequent_itemsets = apriori(df, min_support=0.6, use_colnames=True)\n",
        "frequent_itemsets"
      ],
      "execution_count": 38,
      "outputs": [
        {
          "output_type": "execute_result",
          "data": {
            "text/html": [
              "<div>\n",
              "<style scoped>\n",
              "    .dataframe tbody tr th:only-of-type {\n",
              "        vertical-align: middle;\n",
              "    }\n",
              "\n",
              "    .dataframe tbody tr th {\n",
              "        vertical-align: top;\n",
              "    }\n",
              "\n",
              "    .dataframe thead th {\n",
              "        text-align: right;\n",
              "    }\n",
              "</style>\n",
              "<table border=\"1\" class=\"dataframe\">\n",
              "  <thead>\n",
              "    <tr style=\"text-align: right;\">\n",
              "      <th></th>\n",
              "      <th>support</th>\n",
              "      <th>itemsets</th>\n",
              "    </tr>\n",
              "  </thead>\n",
              "  <tbody>\n",
              "    <tr>\n",
              "      <th>0</th>\n",
              "      <td>0.8</td>\n",
              "      <td>(Beans)</td>\n",
              "    </tr>\n",
              "    <tr>\n",
              "      <th>1</th>\n",
              "      <td>0.8</td>\n",
              "      <td>(Egg)</td>\n",
              "    </tr>\n",
              "    <tr>\n",
              "      <th>2</th>\n",
              "      <td>0.6</td>\n",
              "      <td>(Milk)</td>\n",
              "    </tr>\n",
              "    <tr>\n",
              "      <th>3</th>\n",
              "      <td>0.6</td>\n",
              "      <td>(Onion)</td>\n",
              "    </tr>\n",
              "    <tr>\n",
              "      <th>4</th>\n",
              "      <td>0.6</td>\n",
              "      <td>(Yogurt)</td>\n",
              "    </tr>\n",
              "    <tr>\n",
              "      <th>5</th>\n",
              "      <td>0.6</td>\n",
              "      <td>(Beans, Egg)</td>\n",
              "    </tr>\n",
              "    <tr>\n",
              "      <th>6</th>\n",
              "      <td>0.6</td>\n",
              "      <td>(Beans, Milk)</td>\n",
              "    </tr>\n",
              "    <tr>\n",
              "      <th>7</th>\n",
              "      <td>0.6</td>\n",
              "      <td>(Beans, Yogurt)</td>\n",
              "    </tr>\n",
              "    <tr>\n",
              "      <th>8</th>\n",
              "      <td>0.6</td>\n",
              "      <td>(Egg, Onion)</td>\n",
              "    </tr>\n",
              "  </tbody>\n",
              "</table>\n",
              "</div>"
            ],
            "text/plain": [
              "   support         itemsets\n",
              "0      0.8          (Beans)\n",
              "1      0.8            (Egg)\n",
              "2      0.6           (Milk)\n",
              "3      0.6          (Onion)\n",
              "4      0.6         (Yogurt)\n",
              "5      0.6     (Beans, Egg)\n",
              "6      0.6    (Beans, Milk)\n",
              "7      0.6  (Beans, Yogurt)\n",
              "8      0.6     (Egg, Onion)"
            ]
          },
          "metadata": {
            "tags": []
          },
          "execution_count": 38
        }
      ]
    },
    {
      "cell_type": "markdown",
      "metadata": {
        "id": "x1EzCYIoBtfE",
        "colab_type": "text"
      },
      "source": [
        "80%の人がBeans買ってますね。\n",
        "80%の人がEgg買ってますね。"
      ]
    },
    {
      "cell_type": "code",
      "metadata": {
        "id": "dGq7_3g8B4yg",
        "colab_type": "code",
        "colab": {
          "base_uri": "https://localhost:8080/",
          "height": 297
        },
        "outputId": "1221a24d-88e3-42fc-9c18-3a06f8738f26"
      },
      "source": [
        "from mlxtend.frequent_patterns import association_rules\n",
        "\n",
        "# aprioriアルゴリズムのfrequent_itemsetsをルールに渡してあげる\n",
        "# confidenceの最小の閾値を設定\n",
        "rules = association_rules(frequent_itemsets, metric='confidence', min_threshold=0.7)\n",
        "rules"
      ],
      "execution_count": 40,
      "outputs": [
        {
          "output_type": "execute_result",
          "data": {
            "text/html": [
              "<div>\n",
              "<style scoped>\n",
              "    .dataframe tbody tr th:only-of-type {\n",
              "        vertical-align: middle;\n",
              "    }\n",
              "\n",
              "    .dataframe tbody tr th {\n",
              "        vertical-align: top;\n",
              "    }\n",
              "\n",
              "    .dataframe thead th {\n",
              "        text-align: right;\n",
              "    }\n",
              "</style>\n",
              "<table border=\"1\" class=\"dataframe\">\n",
              "  <thead>\n",
              "    <tr style=\"text-align: right;\">\n",
              "      <th></th>\n",
              "      <th>antecedents</th>\n",
              "      <th>consequents</th>\n",
              "      <th>antecedent support</th>\n",
              "      <th>consequent support</th>\n",
              "      <th>support</th>\n",
              "      <th>confidence</th>\n",
              "      <th>lift</th>\n",
              "      <th>leverage</th>\n",
              "      <th>conviction</th>\n",
              "    </tr>\n",
              "  </thead>\n",
              "  <tbody>\n",
              "    <tr>\n",
              "      <th>0</th>\n",
              "      <td>(Beans)</td>\n",
              "      <td>(Egg)</td>\n",
              "      <td>0.8</td>\n",
              "      <td>0.8</td>\n",
              "      <td>0.6</td>\n",
              "      <td>0.75</td>\n",
              "      <td>0.9375</td>\n",
              "      <td>-0.04</td>\n",
              "      <td>0.8</td>\n",
              "    </tr>\n",
              "    <tr>\n",
              "      <th>1</th>\n",
              "      <td>(Egg)</td>\n",
              "      <td>(Beans)</td>\n",
              "      <td>0.8</td>\n",
              "      <td>0.8</td>\n",
              "      <td>0.6</td>\n",
              "      <td>0.75</td>\n",
              "      <td>0.9375</td>\n",
              "      <td>-0.04</td>\n",
              "      <td>0.8</td>\n",
              "    </tr>\n",
              "    <tr>\n",
              "      <th>2</th>\n",
              "      <td>(Beans)</td>\n",
              "      <td>(Milk)</td>\n",
              "      <td>0.8</td>\n",
              "      <td>0.6</td>\n",
              "      <td>0.6</td>\n",
              "      <td>0.75</td>\n",
              "      <td>1.2500</td>\n",
              "      <td>0.12</td>\n",
              "      <td>1.6</td>\n",
              "    </tr>\n",
              "    <tr>\n",
              "      <th>3</th>\n",
              "      <td>(Milk)</td>\n",
              "      <td>(Beans)</td>\n",
              "      <td>0.6</td>\n",
              "      <td>0.8</td>\n",
              "      <td>0.6</td>\n",
              "      <td>1.00</td>\n",
              "      <td>1.2500</td>\n",
              "      <td>0.12</td>\n",
              "      <td>inf</td>\n",
              "    </tr>\n",
              "    <tr>\n",
              "      <th>4</th>\n",
              "      <td>(Beans)</td>\n",
              "      <td>(Yogurt)</td>\n",
              "      <td>0.8</td>\n",
              "      <td>0.6</td>\n",
              "      <td>0.6</td>\n",
              "      <td>0.75</td>\n",
              "      <td>1.2500</td>\n",
              "      <td>0.12</td>\n",
              "      <td>1.6</td>\n",
              "    </tr>\n",
              "    <tr>\n",
              "      <th>5</th>\n",
              "      <td>(Yogurt)</td>\n",
              "      <td>(Beans)</td>\n",
              "      <td>0.6</td>\n",
              "      <td>0.8</td>\n",
              "      <td>0.6</td>\n",
              "      <td>1.00</td>\n",
              "      <td>1.2500</td>\n",
              "      <td>0.12</td>\n",
              "      <td>inf</td>\n",
              "    </tr>\n",
              "    <tr>\n",
              "      <th>6</th>\n",
              "      <td>(Egg)</td>\n",
              "      <td>(Onion)</td>\n",
              "      <td>0.8</td>\n",
              "      <td>0.6</td>\n",
              "      <td>0.6</td>\n",
              "      <td>0.75</td>\n",
              "      <td>1.2500</td>\n",
              "      <td>0.12</td>\n",
              "      <td>1.6</td>\n",
              "    </tr>\n",
              "    <tr>\n",
              "      <th>7</th>\n",
              "      <td>(Onion)</td>\n",
              "      <td>(Egg)</td>\n",
              "      <td>0.6</td>\n",
              "      <td>0.8</td>\n",
              "      <td>0.6</td>\n",
              "      <td>1.00</td>\n",
              "      <td>1.2500</td>\n",
              "      <td>0.12</td>\n",
              "      <td>inf</td>\n",
              "    </tr>\n",
              "  </tbody>\n",
              "</table>\n",
              "</div>"
            ],
            "text/plain": [
              "  antecedents consequents  antecedent support  ...    lift  leverage  conviction\n",
              "0     (Beans)       (Egg)                 0.8  ...  0.9375     -0.04         0.8\n",
              "1       (Egg)     (Beans)                 0.8  ...  0.9375     -0.04         0.8\n",
              "2     (Beans)      (Milk)                 0.8  ...  1.2500      0.12         1.6\n",
              "3      (Milk)     (Beans)                 0.6  ...  1.2500      0.12         inf\n",
              "4     (Beans)    (Yogurt)                 0.8  ...  1.2500      0.12         1.6\n",
              "5    (Yogurt)     (Beans)                 0.6  ...  1.2500      0.12         inf\n",
              "6       (Egg)     (Onion)                 0.8  ...  1.2500      0.12         1.6\n",
              "7     (Onion)       (Egg)                 0.6  ...  1.2500      0.12         inf\n",
              "\n",
              "[8 rows x 9 columns]"
            ]
          },
          "metadata": {
            "tags": []
          },
          "execution_count": 40
        }
      ]
    }
  ]
}